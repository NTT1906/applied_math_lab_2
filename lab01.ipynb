{
 "cells": [
  {
   "attachments": {},
   "cell_type": "markdown",
   "metadata": {},
   "source": [
    "# <center>Vector và Hệ phương trình tuyến tính trong Python</center>"
   ]
  },
  {
   "attachments": {},
   "cell_type": "markdown",
   "metadata": {},
   "source": [
    "## Mục lục\n",
    "\n",
    "* [Python và các thư viện tính toán khoa học](#c2)\n",
    "* [Vector trong Python](#c3)\n",
    "* [Ma trận (cơ bản) trong Python](#c4)\n",
    "* [Hệ phương trình tuyến tính và Phép khử Gauss trong Python](#c5)\n",
    "* [Không gian con, cơ sở và số chiều](#c6)\n",
    "* [Trực giao hóa với thuật giải Gram-Schmidt](#c7)\n",
    "* [Bài tập](#c8)"
   ]
  },
  {
   "attachments": {},
   "cell_type": "markdown",
   "metadata": {},
   "source": [
    "## Python và các thư viện tính toán khoa học <a class=\"anchor\" id=\"c2\"></a>"
   ]
  },
  {
   "attachments": {},
   "cell_type": "markdown",
   "metadata": {},
   "source": [
    "[Python](https://www.python.org/) là ngôn ngữ lập trình được dùng phổ biến cho tính toán khoa học (và nhiều mục đích khác). Tài liệu tra cứu chính thống của Python được để ở [Python documentation](https://docs.python.org/3/index.html). Có thể dùng hướng dẫn [The Python Tutorial](https://docs.python.org/3/tutorial/) để học nhanh Python. Có thể dùng sách [Bí kíp luyện Lập trình nhập môn với Python (hBook)](https://github.com/vqhBook/python) để học kĩ Python căn bản. Ngoài ra, có thể dùng một số nguồn tham khảo khác như [Python3 Tutorial](https://www.python-course.eu/python3_course.php), [Numerical Programming with Python](https://www.python-course.eu/numerical_programming_with_python.php), [GeeksforGeeks](https://www.geeksforgeeks.org/python-programming-language/)..."
   ]
  },
  {
   "attachments": {},
   "cell_type": "markdown",
   "metadata": {},
   "source": [
    "Các thư viện Python phổ biến dùng trong tính toán khoa học là: [NumPy](https://numpy.org/), [SciPy](https://www.scipy.org/), [SymPy](https://www.sympy.org/en/index.html), [pandas](https://pandas.pydata.org/), [scikit-learn](https://scikit-learn.org/stable/), [Matplotlib](https://matplotlib.org/)... Các thư viện này sẽ được giới thiệu, hướng dẫn và dùng trong các buổi Lab, đồ án."
   ]
  },
  {
   "attachments": {},
   "cell_type": "markdown",
   "metadata": {},
   "source": [
    "NumPy và SciPy là các thư viện **tính toán số** (numeric computation) giúp tính xấp xỉ nhưng hiệu quả với khối lượng tính toán lớn. Có thể học nhanh NumPy tại [NumPy - the absolute basics for beginners](https://numpy.org/doc/stable/user/absolute_beginners.html)."
   ]
  },
  {
   "attachments": {},
   "cell_type": "markdown",
   "metadata": {},
   "source": [
    "SymPy là thư viện **tính toán ký hiệu** (symbolic computation) giúp tính chính xác và hình thức với khối lượng tính toán nhỏ. Có thể học nhanh SymPy tại [SymPy Introduction](https://docs.sympy.org/latest/tutorial/intro.html) và [SymPy Matrices](https://docs.sympy.org/latest/tutorial/matrices.html)."
   ]
  },
  {
   "attachments": {},
   "cell_type": "markdown",
   "metadata": {},
   "source": [
    "Tra cứu các hỗ trợ cho **đại số tuyến tính** (linear algebra) tại:\n",
    "\n",
    "* [Linear algebra (numpy.linalg)](https://numpy.org/doc/stable/reference/routines.linalg.html#)\n",
    "\n",
    "* [Linear algebra (scipy.linalg)](https://docs.scipy.org/doc/scipy/reference/linalg.html#module-scipy.linalg)\n",
    "\n",
    "* [SymPy Matrices (linear algebra)](https://docs.sympy.org/latest/modules/matrices/matrices.html)"
   ]
  },
  {
   "attachments": {},
   "cell_type": "markdown",
   "metadata": {},
   "source": [
    "Một số thư viện có dùng trong bài lab này:\n",
    "\n",
    "* Module [`math`](https://docs.python.org/3/library/math.html) trong thư viện chuẩn Python hỗ trợ các hàm Toán thông dụng.\n",
    "\n",
    "* Lớp [`fractions.Fraction`](https://docs.python.org/3/library/fractions.html) trong thư viện chuẩn Python hỗ trợ kiểu phân số dùng để tính toán chính xác.\n",
    "\n",
    "* Các thư viện `numpy`, `scipy`, `sympy`.\n",
    "\n",
    "* Ngoài ra, hàm `to_fraction` giúp tạo phân số (từ chuỗi, số nguyên, danh sách các số...) khi muốn tính toán chính xác và hàm `myprint` giúp \"xuất đẹp\" các danh sách (vector, tập vector, ma trận)."
   ]
  },
  {
   "cell_type": "code",
   "metadata": {
    "scrolled": true,
    "ExecuteTime": {
     "end_time": "2025-06-09T06:35:28.345201Z",
     "start_time": "2025-06-09T06:35:19.053193Z"
    }
   },
   "source": [
    "!python -m pip install numpy\n",
    "!python -m pip install sympy\n",
    "!python -m pip install scipy\n",
    "\n",
    "import math\n",
    "from fractions import Fraction\n",
    "import numpy as np\n",
    "import scipy.linalg\n",
    "import sympy\n",
    "from sympy import Matrix\n",
    "\n",
    "sympy.init_printing()\n",
    "\n",
    "# Helper functions\n",
    "x = [\"1/2\", \"2/3\"]\n",
    "def to_fraction(x):\n",
    "    if isinstance(x, list):\n",
    "        return [to_fraction(e) for e in x] # list comprehension\n",
    "    else:\n",
    "        return Fraction(x) # \"1/2\" --> 1/2\n",
    "\n",
    "    # # Another way to implement this function, without using list comprehension.\n",
    "    # #     It is a little bit longer!!!\n",
    "    # if not isinstance(x, list):\n",
    "    #     return Fraction(x)\n",
    "\n",
    "    # res = []\n",
    "    # n = len(x)\n",
    "    # for i in range(n): # for (i = 0; i < n; i++)\n",
    "    #     res.append(to_fraction(x[i]))\n",
    "\n",
    "    # return res\n",
    "\n",
    "\n",
    "def myprint(x, sep=\" \"):\n",
    "    if isinstance(x, list) and x:\n",
    "        if isinstance(x[0], list): # list of list\n",
    "            m, n = len(x), len(x[0])\n",
    "            widths = [max(len(str(ai[j])) for ai in x) for j in range(n)]\n",
    "            rows = [sep.join(format(str(ai[j]), f\">{widths[j]}\") for j in range(n)) for ai in x]\n",
    "            print(\"[\" + \"\\n\".join((\" [\" if i > 0 else \"[\") + rows[i] + \"]\" for i in range(m)) + \"]\")\n",
    "        else: # list\n",
    "            print(\"[\" + sep.join(str(e) for e in x) + \"]\")\n",
    "    else:\n",
    "        print(x)"
   ],
   "outputs": [
    {
     "name": "stdout",
     "output_type": "stream",
     "text": [
      "Requirement already satisfied: numpy in c:\\users\\nttis\\miniconda3\\lib\\site-packages (2.0.1)\n",
      "Requirement already satisfied: sympy in c:\\users\\nttis\\miniconda3\\lib\\site-packages (1.14.0)\n",
      "Requirement already satisfied: mpmath<1.4,>=1.1.0 in c:\\users\\nttis\\miniconda3\\lib\\site-packages (from sympy) (1.3.0)\n",
      "Requirement already satisfied: scipy in c:\\users\\nttis\\miniconda3\\lib\\site-packages (1.15.3)\n",
      "Requirement already satisfied: numpy<2.5,>=1.23.5 in c:\\users\\nttis\\miniconda3\\lib\\site-packages (from scipy) (2.0.1)\n"
     ]
    }
   ],
   "execution_count": 2
  },
  {
   "attachments": {},
   "cell_type": "markdown",
   "metadata": {},
   "source": [
    "## Vector trong Python <a class=\"anchor\" id=\"c3\"></a>"
   ]
  },
  {
   "attachments": {},
   "cell_type": "markdown",
   "metadata": {},
   "source": [
    "Một bộ gồm $n$ số thực (n-tuple) $\\boldsymbol{v} = (v_1, v_2, ..., v_n) \\in \\mathbb{R}^n$ được gọi là một **vector** kích thước $n$. Các số $v_1, v_2, ..., v_n \\in \\mathbb{R}$ được gọi là các **phần tử** (element, entry) của vector. Để phân biệt với vector, các số thực còn được gọi là **vô hướng** (scalar)."
   ]
  },
  {
   "attachments": {},
   "cell_type": "markdown",
   "metadata": {},
   "source": [
    "Cách đơn giản nhất để biểu diễn vector là dùng **danh sách** (list) các số. Cách hiệu quả và tiện lợi hơn là dùng **NumPy 1D array**."
   ]
  },
  {
   "attachments": {},
   "cell_type": "markdown",
   "metadata": {},
   "source": [
    "### Khai báo"
   ]
  },
  {
   "cell_type": "code",
   "metadata": {
    "ExecuteTime": {
     "end_time": "2025-06-09T06:35:28.391929Z",
     "start_time": "2025-06-09T06:35:28.386304Z"
    }
   },
   "source": [
    "# Init\n",
    "v_list = [1, 2, 3, 4, 5]            # Uses list \n",
    "v_numpy = np.array([1, 2, 3, 4, 5, 6]) # Uses NumPy\n",
    "\n",
    "# Display the values\n",
    "print('Use list: ', v_list)\n",
    "print('Use NumPy: ', v_numpy)\n",
    "\n",
    "# Access elements (basic)\n",
    "print('The first element in vector (list): ', v_list[0])\n",
    "print('The last element in vector (NumPy): ', v_numpy[-1])\n",
    "\n",
    "print('Subvector (3 first elements) in vector (list): ', v_list[:3])    # Quick questions: Other ways? What items should come before the colon?\n",
    "print('Subvector (3 last elements) in vector (NumPy): ', v_numpy[-3:])  # Quick questions: Other ways? What items should come after the colon?"
   ],
   "outputs": [
    {
     "name": "stdout",
     "output_type": "stream",
     "text": [
      "Use list:  [1, 2, 3, 4, 5]\n",
      "Use NumPy:  [1 2 3 4 5 6]\n",
      "The first element in vector (list):  1\n",
      "The last element in vector (NumPy):  6\n",
      "Subvector (3 first elements) in vector (list):  [1, 2, 3]\n",
      "Subvector (3 last elements) in vector (NumPy):  [4 5 6]\n"
     ]
    }
   ],
   "execution_count": 3
  },
  {
   "attachments": {},
   "cell_type": "markdown",
   "metadata": {},
   "source": [
    "Tùy trường hợp, vector $\\boldsymbol{v} = (v_1, v_2, ..., v_n) \\in \\mathbb{R}^n$ có thể được biểu diễn như là **vector dòng** (row vector) hay **vector cột** (column vector)\n",
    "$$\n",
    "\\boldsymbol{v} = \n",
    "\\begin{bmatrix}\n",
    "v_1 & v_2 & \\cdots & v_n\n",
    "\\end{bmatrix} \\in \\mathbb{R}^{1 \\times n},\n",
    "$$\n",
    "$$\n",
    "\\boldsymbol{v} = \n",
    "\\begin{bmatrix}\n",
    "v_1 \\\\ v_2 \\\\ \\vdots \\\\ v_n\n",
    "\\end{bmatrix} \\in \\mathbb{R}^{n \\times 1}.\n",
    "$$"
   ]
  },
  {
   "cell_type": "code",
   "metadata": {
    "scrolled": true,
    "ExecuteTime": {
     "end_time": "2025-06-09T06:35:28.422279Z",
     "start_time": "2025-06-09T06:35:28.417737Z"
    }
   },
   "source": [
    "print(v_numpy.shape) # print(v_numpy.shape)"
   ],
   "outputs": [
    {
     "name": "stdout",
     "output_type": "stream",
     "text": [
      "(6,)\n"
     ]
    }
   ],
   "execution_count": 4
  },
  {
   "cell_type": "code",
   "metadata": {
    "scrolled": false,
    "ExecuteTime": {
     "end_time": "2025-06-09T06:35:28.499879Z",
     "start_time": "2025-06-09T06:35:28.494998Z"
    }
   },
   "source": [
    "# Uses NumPy\n",
    "v_row = v_numpy.reshape(1, -1)\n",
    "v_col = v_numpy.reshape(len(v_numpy), 1)\n",
    "\n",
    "print('Row vector: \\n', v_row, '\\nShape: ', v_row.shape)\n",
    "print('\\nColumn vector: \\n', v_col, '\\nShape: ', v_col.shape)\n",
    "\n",
    "# Reshape as 2x3 matrix\n",
    "print(np.reshape(v_numpy, (2,3)))\n",
    "print(np.reshape(v_numpy, (2,3), order='F'))"
   ],
   "outputs": [
    {
     "name": "stdout",
     "output_type": "stream",
     "text": [
      "Row vector: \n",
      " [[1 2 3 4 5 6]] \n",
      "Shape:  (1, 6)\n",
      "\n",
      "Column vector: \n",
      " [[1]\n",
      " [2]\n",
      " [3]\n",
      " [4]\n",
      " [5]\n",
      " [6]] \n",
      "Shape:  (6, 1)\n",
      "[[1 2 3]\n",
      " [4 5 6]]\n",
      "[[1 3 5]\n",
      " [2 4 6]]\n"
     ]
    }
   ],
   "execution_count": 5
  },
  {
   "cell_type": "code",
   "metadata": {
    "scrolled": true,
    "ExecuteTime": {
     "end_time": "2025-06-09T06:35:29.114962Z",
     "start_time": "2025-06-09T06:35:28.577312Z"
    }
   },
   "source": [
    "# Uses SymPy\n",
    "Matrix([1, 2, 3, 4, 5]) # SymPy treats a vector as a column vector, which is a matrix with only 1 column"
   ],
   "outputs": [
    {
     "data": {
      "text/plain": [
       "⎡1⎤\n",
       "⎢ ⎥\n",
       "⎢2⎥\n",
       "⎢ ⎥\n",
       "⎢3⎥\n",
       "⎢ ⎥\n",
       "⎢4⎥\n",
       "⎢ ⎥\n",
       "⎣5⎦"
      ],
      "text/latex": "$\\displaystyle \\left[\\begin{matrix}1\\\\2\\\\3\\\\4\\\\5\\end{matrix}\\right]$"
     },
     "execution_count": 6,
     "metadata": {},
     "output_type": "execute_result"
    }
   ],
   "execution_count": 6
  },
  {
   "attachments": {},
   "cell_type": "markdown",
   "metadata": {},
   "source": [
    "### Vector không (zero vector)"
   ]
  },
  {
   "attachments": {},
   "cell_type": "markdown",
   "metadata": {},
   "source": [
    "Vector $\\boldsymbol{0} = (0, 0, ..., 0) \\in \\mathbb{R}^n$ được gọi là **vector không** (zero vector)."
   ]
  },
  {
   "attachments": {},
   "cell_type": "markdown",
   "metadata": {},
   "source": [
    "2 vector $\\boldsymbol{v} = (v_1, v_2, ..., v_n), \\boldsymbol{w} = (w_1, w_2, ..., w_n) \\in \\mathbb{R}^n$ được gọi là **bằng nhau** (equal), kí hiệu $\\boldsymbol{v} = \\boldsymbol{w}$ nếu $v_i = w_i, \\forall i$."
   ]
  },
  {
   "attachments": {},
   "cell_type": "markdown",
   "metadata": {},
   "source": [
    "#### Sử dụng list"
   ]
  },
  {
   "cell_type": "code",
   "metadata": {
    "ExecuteTime": {
     "end_time": "2025-06-09T06:35:29.138308Z",
     "start_time": "2025-06-09T06:35:29.134308Z"
    }
   },
   "source": [
    "# Define functions\n",
    "def is_zero(x):\n",
    "    # Check if a real number x is equal to 0 (or is very close to 0)\n",
    "    return math.isclose(x, 0, abs_tol=1e-09)\n",
    "    # |a - b| <= 0.00000000001 --> a ~ b\n",
    "\n",
    "def create_zero_vector(n):\n",
    "    return [0] * n\n",
    "    # return [0 for _ in range(n)]\n",
    "\n",
    "def is_zero_vector(v):\n",
    "    return all(is_zero(vi) for vi in v)\n",
    "    # # If we ignore is_zero function, we can use this code:\n",
    "    # return v == [0]*len(v)"
   ],
   "outputs": [],
   "execution_count": 7
  },
  {
   "cell_type": "code",
   "metadata": {
    "scrolled": true,
    "ExecuteTime": {
     "end_time": "2025-06-09T06:35:29.161192Z",
     "start_time": "2025-06-09T06:35:29.156269Z"
    }
   },
   "source": [
    "v = create_zero_vector(3)\n",
    "\n",
    "# Show value\n",
    "print(v)\n",
    "\n",
    "# Check if v is a zero vector\n",
    "print('Is zero vector: ', is_zero_vector(v))"
   ],
   "outputs": [
    {
     "name": "stdout",
     "output_type": "stream",
     "text": [
      "[0, 0, 0]\n",
      "Is zero vector:  True\n"
     ]
    }
   ],
   "execution_count": 8
  },
  {
   "attachments": {},
   "cell_type": "markdown",
   "metadata": {},
   "source": [
    "##### TODO: Tìm hiểu thêm"
   ]
  },
  {
   "cell_type": "code",
   "metadata": {
    "ExecuteTime": {
     "end_time": "2025-06-09T06:35:29.246662Z",
     "start_time": "2025-06-09T06:35:29.243620Z"
    }
   },
   "source": [
    "# What is the output when we call: v == 0?\n",
    "# What is the output when we call: v == create_zero_vector(3)?\n",
    "# Give explanations"
   ],
   "outputs": [],
   "execution_count": 9
  },
  {
   "attachments": {},
   "cell_type": "markdown",
   "metadata": {},
   "source": [
    "#### Sử dụng NumPy"
   ]
  },
  {
   "cell_type": "code",
   "metadata": {
    "scrolled": false,
    "ExecuteTime": {
     "end_time": "2025-06-09T06:35:29.289756Z",
     "start_time": "2025-06-09T06:35:29.284028Z"
    }
   },
   "source": [
    "v = np.zeros(3)\n",
    "\n",
    "# Show value\n",
    "print(v)\n",
    "\n",
    "# Check if v is a zero vector\n",
    "print('Is zero vector (using built-in function), ', all(v == 0))                # Quick question: What does this code mean: \"all(v == 0)\"?\n",
    "print('Is zero vector (using our implemented function): ', is_zero_vector(v))"
   ],
   "outputs": [
    {
     "name": "stdout",
     "output_type": "stream",
     "text": [
      "[0. 0. 0.]\n",
      "Is zero vector (using built-in function),  True\n",
      "Is zero vector (using our implemented function):  True\n"
     ]
    }
   ],
   "execution_count": 10
  },
  {
   "cell_type": "markdown",
   "metadata": {},
   "source": [
    "#### Sử dụng SymPy"
   ]
  },
  {
   "cell_type": "code",
   "metadata": {
    "ExecuteTime": {
     "end_time": "2025-06-09T06:35:29.367516Z",
     "start_time": "2025-06-09T06:35:29.364029Z"
    }
   },
   "source": [
    "# TODO: Create a zero vector using SymPy\n",
    "# YOUR CODE HERE\n",
    "\n",
    "# TODO: Check if a vector is a zero vector using SymPy\n",
    "# YOUR CODE HERE"
   ],
   "outputs": [],
   "execution_count": 11
  },
  {
   "attachments": {},
   "cell_type": "markdown",
   "metadata": {},
   "source": [
    "### Các phép toán trong Vector"
   ]
  },
  {
   "attachments": {},
   "cell_type": "markdown",
   "metadata": {},
   "source": [
    "Cho 2 vector $\\boldsymbol{v} = (v_1, v_2, ..., v_n), \\boldsymbol{w} = (w_1, w_2, ..., w_n) \\in \\mathbb{R}^n$ và số thực $\\alpha \\in \\mathbb{R}$, ta định nghĩa các phép toán\n",
    "$$\n",
    "\\boldsymbol{v} + \\boldsymbol{w} = (v_1 + w_1, v_2 + w_2, ..., v_n + w_n),\n",
    "$$\n",
    "$$\n",
    "\\boldsymbol{v} - \\boldsymbol{w} = (v_1 - w_1, v_2 - w_2, ..., v_n - w_n),\n",
    "$$\n",
    "$$\n",
    "\\alpha \\boldsymbol{v} = (\\alpha v_1, \\alpha v_2, ..., \\alpha v_n).\n",
    "$$"
   ]
  },
  {
   "attachments": {},
   "cell_type": "markdown",
   "metadata": {},
   "source": [
    "Cho tập các vector $\\boldsymbol{v}_1, \\boldsymbol{v}_2, ..., \\boldsymbol{v}_k \\in \\mathbb{R}^n$ và các số $\\alpha_1, \\alpha_2, ..., \\alpha_k \\in \\mathbb{R}$, ta nói vector\n",
    "$$\n",
    "\\boldsymbol{w} = \\alpha_1 \\boldsymbol{v}_1 + \\alpha_2 \\boldsymbol{v}_2 + ... + \\alpha_k \\boldsymbol{v}_k\n",
    "$$\n",
    "\n",
    "là một **tổ hợp tuyến tính** (linear combination) của $\\boldsymbol{v}_1, \\boldsymbol{v}_2, ..., \\boldsymbol{v}_k$ với các **hệ số** (coefficient) $\\alpha_1, \\alpha_2, ..., \\alpha_k$."
   ]
  },
  {
   "attachments": {},
   "cell_type": "markdown",
   "metadata": {},
   "source": [
    "#### Sử dụng List"
   ]
  },
  {
   "cell_type": "code",
   "metadata": {
    "ExecuteTime": {
     "end_time": "2025-06-09T06:35:29.430694Z",
     "start_time": "2025-06-09T06:35:29.425502Z"
    }
   },
   "source": [
    "# Define functions\n",
    "def add_vector(v, w):\n",
    "    return [vi + wi for vi, wi in zip(v, w)]\n",
    "\n",
    "def sub_vector(v, w):\n",
    "    return [vi - wi for vi, wi in zip(v, w)]\n",
    "\n",
    "def mul_scalar_vector(alpha, v):\n",
    "    return [alpha*vi for vi in v]\n",
    "\n",
    "def equal_vector(v, w):\n",
    "    return is_zero_vector(sub_vector(v, w)) # 2 vectors are equal if their difference is the zero vector"
   ],
   "outputs": [],
   "execution_count": 12
  },
  {
   "cell_type": "code",
   "metadata": {
    "scrolled": false,
    "ExecuteTime": {
     "end_time": "2025-06-09T06:35:29.477665Z",
     "start_time": "2025-06-09T06:35:29.473734Z"
    }
   },
   "source": [
    "v = [1, -3, 2]\n",
    "w = [4, 2, 1]\n",
    "\n",
    "print('Sum of 2 vectors: ', add_vector(v, w))\n",
    "print('Subtraction of 2 vectors: ', sub_vector(v, w))\n",
    "print('Multiplication of vector with scalar (alpha = 2): ', mul_scalar_vector(2, v))\n",
    "print('Is (v - w) == (v + (-1w))?: ', equal_vector(sub_vector(v, w), add_vector(v, mul_scalar_vector(-1, w))))"
   ],
   "outputs": [
    {
     "name": "stdout",
     "output_type": "stream",
     "text": [
      "Sum of 2 vectors:  [5, -1, 3]\n",
      "Subtraction of 2 vectors:  [-3, -5, 1]\n",
      "Multiplication of vector with scalar (alpha = 2):  [2, -6, 4]\n",
      "Is (v - w) == (v + (-1w))?:  True\n"
     ]
    }
   ],
   "execution_count": 13
  },
  {
   "attachments": {},
   "cell_type": "markdown",
   "metadata": {},
   "source": [
    "#### Sử dụng NumPy"
   ]
  },
  {
   "cell_type": "code",
   "metadata": {
    "scrolled": false,
    "ExecuteTime": {
     "end_time": "2025-06-09T06:35:29.545421Z",
     "start_time": "2025-06-09T06:35:29.536439Z"
    }
   },
   "source": [
    "v = np.array(v)\n",
    "w = np.array(w)\n",
    "\n",
    "print('Sum of 2 vectors: ', v + w)\n",
    "print('Subtraction of 2 vectors: ', v - w)\n",
    "print('Multiplication of vector with scalar (alpha = 2): ', 2*v)\n",
    "print('Is (v - w) == (v + (-1w))?: ', all((v - w) == (v + (-1*w))))"
   ],
   "outputs": [
    {
     "name": "stdout",
     "output_type": "stream",
     "text": [
      "Sum of 2 vectors:  [ 5 -1  3]\n",
      "Subtraction of 2 vectors:  [-3 -5  1]\n",
      "Multiplication of vector with scalar (alpha = 2):  [ 2 -6  4]\n",
      "Is (v - w) == (v + (-1w))?:  True\n"
     ]
    }
   ],
   "execution_count": 14
  },
  {
   "attachments": {},
   "cell_type": "markdown",
   "metadata": {},
   "source": [
    "#### Sử dụng SymPy"
   ]
  },
  {
   "cell_type": "code",
   "metadata": {
    "scrolled": true,
    "ExecuteTime": {
     "end_time": "2025-06-09T06:35:29.634972Z",
     "start_time": "2025-06-09T06:35:29.625766Z"
    }
   },
   "source": [
    "v = Matrix(v)\n",
    "w = Matrix(w)\n",
    "\n",
    "print('Sum of 2 vectors: ', v + w)\n",
    "print('Subtraction of 2 vectors: ', v - w)\n",
    "print('Multiplication of vector with scalar (alpha = 2): ', 2*v)\n",
    "print('Is (v - w) == (v + (-1w))?: ', v - w == v + (-1*w)) # Unlike NumPy, SymPy uses \"==\" operator to compare 2 vectors (matrice)"
   ],
   "outputs": [
    {
     "name": "stdout",
     "output_type": "stream",
     "text": [
      "Sum of 2 vectors:  Matrix([[5], [-1], [3]])\n",
      "Subtraction of 2 vectors:  Matrix([[-3], [-5], [1]])\n",
      "Multiplication of vector with scalar (alpha = 2):  Matrix([[2], [-6], [4]])\n",
      "Is (v - w) == (v + (-1w))?:  True\n"
     ]
    }
   ],
   "execution_count": 15
  },
  {
   "cell_type": "markdown",
   "metadata": {},
   "source": [
    "##### Tổ hợp tuyến tính"
   ]
  },
  {
   "cell_type": "code",
   "metadata": {
    "scrolled": true,
    "ExecuteTime": {
     "end_time": "2025-06-09T06:35:29.883882Z",
     "start_time": "2025-06-09T06:35:29.699701Z"
    }
   },
   "source": [
    "print('Linear combination:')\n",
    "sympy.symbols('alpha')*v + sympy.symbols('beta')*w"
   ],
   "outputs": [
    {
     "name": "stdout",
     "output_type": "stream",
     "text": [
      "Linear combination:\n"
     ]
    },
    {
     "data": {
      "text/plain": [
       "⎡ α + 4⋅β  ⎤\n",
       "⎢          ⎥\n",
       "⎢-3⋅α + 2⋅β⎥\n",
       "⎢          ⎥\n",
       "⎣ 2⋅α + β  ⎦"
      ],
      "text/latex": "$\\displaystyle \\left[\\begin{matrix}\\alpha + 4 \\beta\\\\- 3 \\alpha + 2 \\beta\\\\2 \\alpha + \\beta\\end{matrix}\\right]$"
     },
     "execution_count": 16,
     "metadata": {},
     "output_type": "execute_result"
    }
   ],
   "execution_count": 16
  },
  {
   "attachments": {},
   "cell_type": "markdown",
   "metadata": {},
   "source": [
    "### Tích vô hướng"
   ]
  },
  {
   "attachments": {},
   "cell_type": "markdown",
   "metadata": {},
   "source": [
    "Cho 2 vector $\\boldsymbol{v} = (v_1, v_2, ..., v_n), \\boldsymbol{w} = (w_1, w_2, ..., w_n) \\in \\mathbb{R}^n$:"
   ]
  },
  {
   "attachments": {},
   "cell_type": "markdown",
   "metadata": {},
   "source": [
    "Ta định nghĩa **tích vô hướng** (inner product, dot product) của $\\boldsymbol{v}, \\boldsymbol{w}$ là\n",
    "$$\n",
    "\\langle \\boldsymbol{v}, \\boldsymbol{w} \\rangle = v_1w_1 + v_2w_2 + ... + v_n w_n = \\sum_{i=1}^n v_i w_i,\n",
    "$$"
   ]
  },
  {
   "cell_type": "code",
   "metadata": {
    "ExecuteTime": {
     "end_time": "2025-06-09T06:35:29.898046Z",
     "start_time": "2025-06-09T06:35:29.894042Z"
    }
   },
   "source": [
    "def calc_inner_product(v, w):\n",
    "    return sum(vi*wi for vi, wi in zip(v, w)) # Quick question: What is \"zip\" function? -> https://docs.python.org/3.10/library/functions.html#zip"
   ],
   "outputs": [],
   "execution_count": 17
  },
  {
   "cell_type": "code",
   "metadata": {
    "scrolled": true,
    "ExecuteTime": {
     "end_time": "2025-06-09T06:35:29.918107Z",
     "start_time": "2025-06-09T06:35:29.913996Z"
    }
   },
   "source": [
    "v = [1, 2, 3]\n",
    "w = [4, 5, 2]\n",
    "\n",
    "print('Inner product of 2 vectors: ', calc_inner_product(v, w))\n",
    "\n",
    "v = np.array(v)\n",
    "w = np.array(w)\n",
    "print('Inner product of 2 vectors (using NumPy): ', np.dot(v, w)) # Quick question: What is the difference between \"np.dot\" and \"v*w\" and \"v @ w\"? -> https://numpy.org/doc/stable/reference/generated/numpy.dot.html"
   ],
   "outputs": [
    {
     "name": "stdout",
     "output_type": "stream",
     "text": [
      "Inner product of 2 vectors:  20\n",
      "Inner product of 2 vectors (using NumPy):  20\n"
     ]
    }
   ],
   "execution_count": 18
  },
  {
   "attachments": {},
   "cell_type": "markdown",
   "metadata": {},
   "source": [
    "### Trực giao"
   ]
  },
  {
   "attachments": {},
   "cell_type": "markdown",
   "metadata": {},
   "source": [
    "Ta nói $\\boldsymbol{v}, \\boldsymbol{w}$ **trực giao** (orthogonal, perpendicular), kí hiệu $\\boldsymbol{v} \\bot \\boldsymbol{w}$, nếu $\\langle \\boldsymbol{v}, \\boldsymbol{w} \\rangle = 0$,"
   ]
  },
  {
   "cell_type": "code",
   "metadata": {
    "ExecuteTime": {
     "end_time": "2025-06-09T06:35:30.009117Z",
     "start_time": "2025-06-09T06:35:30.005036Z"
    }
   },
   "source": [
    "def is_orthogonal(v, w):\n",
    "    return is_zero(calc_inner_product(v, w))"
   ],
   "outputs": [],
   "execution_count": 19
  },
  {
   "cell_type": "code",
   "metadata": {
    "scrolled": true,
    "ExecuteTime": {
     "end_time": "2025-06-09T06:35:30.048352Z",
     "start_time": "2025-06-09T06:35:30.044882Z"
    }
   },
   "source": [
    "v = [1, -2, 3]\n",
    "w = [4, 5, 2]\n",
    "\n",
    "print(f'Are {v} and {w} orthogonal: ', is_orthogonal(v, w))"
   ],
   "outputs": [
    {
     "name": "stdout",
     "output_type": "stream",
     "text": [
      "Are [1, -2, 3] and [4, 5, 2] orthogonal:  True\n"
     ]
    }
   ],
   "execution_count": 20
  },
  {
   "attachments": {},
   "cell_type": "markdown",
   "metadata": {},
   "source": [
    "### Chuẩn"
   ]
  },
  {
   "attachments": {},
   "cell_type": "markdown",
   "metadata": {},
   "source": [
    "Ta định nghĩa **chuẩn** (norm, length, magnitude) của $\\boldsymbol{v}$ là\n",
    "$$\n",
    "\\| \\boldsymbol{v} \\| = \\sqrt{\\langle \\boldsymbol{v}, \\boldsymbol{v} \\rangle} = \\sqrt{v_1^2 + v_2^2 + ... + v_n^2} = \\sqrt{\\sum_{i=1}^n v_i^2},\n",
    "$$"
   ]
  },
  {
   "cell_type": "code",
   "metadata": {
    "ExecuteTime": {
     "end_time": "2025-06-09T06:35:30.129862Z",
     "start_time": "2025-06-09T06:35:30.114417Z"
    }
   },
   "source": [
    "def norm_square(v):\n",
    "    return calc_inner_product(v, v)\n",
    "\n",
    "def norm(v):\n",
    "    return sympy.sqrt(norm_square(v)) # Uses SymPy to get sqrt symbol"
   ],
   "outputs": [],
   "execution_count": 21
  },
  {
   "cell_type": "code",
   "metadata": {
    "scrolled": true,
    "ExecuteTime": {
     "end_time": "2025-06-09T06:35:30.283074Z",
     "start_time": "2025-06-09T06:35:30.194772Z"
    }
   },
   "source": [
    "v = [1, 2, 3]\n",
    "\n",
    "print(f'Norm of {v}: ')\n",
    "norm(v)"
   ],
   "outputs": [
    {
     "name": "stdout",
     "output_type": "stream",
     "text": [
      "Norm of [1, 2, 3]: \n"
     ]
    },
    {
     "data": {
      "text/plain": [
       "√14"
      ],
      "image/png": "[encoded data removed]",
      "text/latex": "$\\displaystyle \\sqrt{14}$"
     },
     "execution_count": 22,
     "metadata": {},
     "output_type": "execute_result"
    }
   ],
   "execution_count": 22
  },
  {
   "cell_type": "code",
   "metadata": {
    "ExecuteTime": {
     "end_time": "2025-06-09T06:35:30.334653Z",
     "start_time": "2025-06-09T06:35:30.329604Z"
    }
   },
   "source": [
    "math.sqrt(14) == norm(v)"
   ],
   "outputs": [
    {
     "data": {
      "text/plain": [
       "False"
      ]
     },
     "execution_count": 23,
     "metadata": {},
     "output_type": "execute_result"
    }
   ],
   "execution_count": 23
  },
  {
   "attachments": {},
   "cell_type": "markdown",
   "metadata": {},
   "source": [
    "### Vector đơn vị"
   ]
  },
  {
   "attachments": {},
   "cell_type": "markdown",
   "metadata": {},
   "source": [
    "Ta nói $\\boldsymbol{v}$ là **vector đơn vị** (unit vector) nếu $\\| \\boldsymbol{v} \\| = 1$,"
   ]
  },
  {
   "cell_type": "code",
   "metadata": {
    "ExecuteTime": {
     "end_time": "2025-06-09T06:35:30.410463Z",
     "start_time": "2025-06-09T06:35:30.407014Z"
    }
   },
   "source": [
    "def is_one(v):\n",
    "    return math.isclose(v, 1)\n",
    "\n",
    "def is_unit_vector(v):\n",
    "    return is_one(norm(v))"
   ],
   "outputs": [],
   "execution_count": 24
  },
  {
   "cell_type": "code",
   "metadata": {
    "scrolled": true,
    "ExecuteTime": {
     "end_time": "2025-06-09T06:35:30.451722Z",
     "start_time": "2025-06-09T06:35:30.447511Z"
    }
   },
   "source": [
    "one = [1, 0, 0]\n",
    "\n",
    "print(f'Is {one} a unit vector: ', is_unit_vector(one))"
   ],
   "outputs": [
    {
     "name": "stdout",
     "output_type": "stream",
     "text": [
      "Is [1, 0, 0] a unit vector:  True\n"
     ]
    }
   ],
   "execution_count": 25
  },
  {
   "attachments": {},
   "cell_type": "markdown",
   "metadata": {},
   "source": [
    "### Khoảng cách"
   ]
  },
  {
   "attachments": {},
   "cell_type": "markdown",
   "metadata": {},
   "source": [
    "Ta định nghĩa **khoảng cách** (distance) giữa $\\boldsymbol{v}$ và $\\boldsymbol{w}$ là $\\| \\boldsymbol{v} - \\boldsymbol{w} \\|$."
   ]
  },
  {
   "cell_type": "code",
   "metadata": {
    "ExecuteTime": {
     "end_time": "2025-06-09T06:35:30.535843Z",
     "start_time": "2025-06-09T06:35:30.529004Z"
    }
   },
   "source": [
    "def distance(v, w):\n",
    "    return norm(sub_vector(v, w))"
   ],
   "outputs": [],
   "execution_count": 26
  },
  {
   "cell_type": "code",
   "metadata": {
    "ExecuteTime": {
     "end_time": "2025-06-09T06:35:30.617456Z",
     "start_time": "2025-06-09T06:35:30.581353Z"
    }
   },
   "source": [
    "v = [1, -2, 3]\n",
    "w = [4, 5, 2]\n",
    "\n",
    "print(f'Distance between {v} and {w}:')\n",
    "distance(v, w)"
   ],
   "outputs": [
    {
     "name": "stdout",
     "output_type": "stream",
     "text": [
      "Distance between [1, -2, 3] and [4, 5, 2]:\n"
     ]
    },
    {
     "data": {
      "text/plain": [
       "√59"
      ],
      "image/png": "[encoded data removed]",
      "text/latex": "$\\displaystyle \\sqrt{59}$"
     },
     "execution_count": 27,
     "metadata": {},
     "output_type": "execute_result"
    }
   ],
   "execution_count": 27
  },
  {
   "attachments": {},
   "cell_type": "markdown",
   "metadata": {},
   "source": [
    "### TODO: Tìm hiểu thêm\n",
    "\n",
    "Tìm hiểu cách sử dụng NumPy và SymPy cho các khái niệm được liệt kê phía trên (từ Trực giao đến Khoảng cách) "
   ]
  },
  {
   "attachments": {},
   "cell_type": "markdown",
   "metadata": {},
   "source": [
    "## Ma trận (cơ bản) trong Python <a class=\"anchor\" id=\"c4\"></a>\n",
    "\n",
    "*(Ma trận sẽ được hướng dẫn kĩ hơn trong Lab 2.)*"
   ]
  },
  {
   "attachments": {},
   "cell_type": "markdown",
   "metadata": {},
   "source": [
    "### Khái niệm"
   ]
  },
  {
   "attachments": {},
   "cell_type": "markdown",
   "metadata": {},
   "source": [
    "Một bảng chữ nhật gồm $m$ dòng, $n$ cột các số thực \n",
    "$$\n",
    "A =\n",
    "\\begin{bmatrix}\n",
    "  a_{11} & a_{12} & \\cdots & a_{1n} \\\\\n",
    "  a_{21} & a_{22} & \\cdots & a_{2n} \\\\\n",
    "  \\vdots  & \\vdots  & \\ddots & \\vdots  \\\\\n",
    "  a_{m1} & a_{m2} & \\cdots & a_{mn} \n",
    "\\end{bmatrix} \\in \\mathbb{R}^{m \\times n}\n",
    "$$\n",
    "được gọi là **ma trận** (matrix) có kích thước (hay có dạng) $m \\times n$. Số $a_{ij}$ được gọi là **phần tử** (element, entry) ở dòng $i$, cột $j$ của ma trận $A$."
   ]
  },
  {
   "attachments": {},
   "cell_type": "markdown",
   "metadata": {},
   "source": [
    "Ma trận $A \\in \\mathbb{R}^{m \\times n}$ có thể xem như gồm $m$ vector dòng $\\mathbb{R}^{1 \\times n}$ với dòng $i$ là\n",
    "$$\n",
    "\\boldsymbol{a}_{i,} = \n",
    "\\begin{bmatrix}\n",
    "  a_{i1} & a_{i2} & \\cdots & a_{in} \\\\\n",
    "\\end{bmatrix},\n",
    "$$\n",
    "hay gồm $n$ vector cột $\\mathbb{R}^{m \\times 1}$ với cột $j$ là\n",
    "$$\n",
    "\\boldsymbol{a}_{,j} = \n",
    "\\begin{bmatrix}\n",
    "  a_{1j} \\\\ a_{2j} \\\\ \\vdots \\\\ a_{mj} \n",
    "\\end{bmatrix}.\n",
    "$$"
   ]
  },
  {
   "attachments": {},
   "cell_type": "markdown",
   "metadata": {},
   "source": [
    "Ta nói ma trận có được từ $A$ bằng cách xếp các dòng thành các cột là ma trận **chuyển vị** (transpose) của $A$, kí hiệu $A^T$, tức là\n",
    "$$\n",
    "A^T = \n",
    "\\begin{bmatrix}\n",
    "  a_{11} & a_{21} & \\cdots & a_{m1} \\\\\n",
    "  a_{12} & a_{22} & \\cdots & a_{m2} \\\\\n",
    "  \\vdots  & \\vdots  & \\ddots & \\vdots  \\\\\n",
    "  a_{1n} & a_{2n} & \\cdots & a_{mn} \n",
    "\\end{bmatrix} \\in \\mathbb{R}^{n \\times m}.\n",
    "$$"
   ]
  },
  {
   "attachments": {},
   "cell_type": "markdown",
   "metadata": {},
   "source": [
    "Cách đơn giản nhất để biểu diễn ma trận là dùng **danh sách lồng** (nested list) các số. Cách hiệu quả và tiện lợi hơn là dùng **NumPy 2D array**."
   ]
  },
  {
   "attachments": {},
   "cell_type": "markdown",
   "metadata": {},
   "source": [
    "### Chuyển vị"
   ]
  },
  {
   "attachments": {},
   "cell_type": "markdown",
   "metadata": {},
   "source": [
    "#### List"
   ]
  },
  {
   "cell_type": "code",
   "metadata": {
    "scrolled": true,
    "ExecuteTime": {
     "end_time": "2025-06-09T06:35:30.687560Z",
     "start_time": "2025-06-09T06:35:30.681404Z"
    }
   },
   "source": [
    "def transpose(A):\n",
    "    m, n = len(A), len(A[0]) # The size of matrix\n",
    "    return [[A[i][j] for i in range(m)] for j in range(n)]\n",
    "\n",
    "A = [[1, 2, 3],\n",
    "     [4, 5, 6]]\n",
    "\n",
    "print('Before transposing:')\n",
    "myprint(A)\n",
    "\n",
    "print('\\nAfter transposing:')\n",
    "myprint(transpose(A))"
   ],
   "outputs": [
    {
     "name": "stdout",
     "output_type": "stream",
     "text": [
      "Before transposing:\n",
      "[[1 2 3]\n",
      " [4 5 6]]\n",
      "\n",
      "After transposing:\n",
      "[[1 4]\n",
      " [2 5]\n",
      " [3 6]]\n"
     ]
    }
   ],
   "execution_count": 28
  },
  {
   "attachments": {},
   "cell_type": "markdown",
   "metadata": {},
   "source": [
    "#### NumPy"
   ]
  },
  {
   "cell_type": "code",
   "metadata": {
    "scrolled": true,
    "ExecuteTime": {
     "end_time": "2025-06-09T06:35:30.780079Z",
     "start_time": "2025-06-09T06:35:30.776079Z"
    }
   },
   "source": [
    "A = np.array(A)\n",
    "\n",
    "print('Before transposing:')\n",
    "print(A)\n",
    "\n",
    "print('\\nAfter transposing:')\n",
    "print(A.T)"
   ],
   "outputs": [
    {
     "name": "stdout",
     "output_type": "stream",
     "text": [
      "Before transposing:\n",
      "[[1 2 3]\n",
      " [4 5 6]]\n",
      "\n",
      "After transposing:\n",
      "[[1 4]\n",
      " [2 5]\n",
      " [3 6]]\n"
     ]
    }
   ],
   "execution_count": 29
  },
  {
   "attachments": {},
   "cell_type": "markdown",
   "metadata": {},
   "source": [
    "#### SymPy"
   ]
  },
  {
   "cell_type": "code",
   "metadata": {
    "scrolled": false,
    "ExecuteTime": {
     "end_time": "2025-06-09T06:35:30.908973Z",
     "start_time": "2025-06-09T06:35:30.881392Z"
    }
   },
   "source": [
    "A = Matrix([[sympy.symbols(f\"a_{i}{j}\") for j in range(1, 4)] for i in range(1, 3)])\n",
    "A"
   ],
   "outputs": [
    {
     "data": {
      "text/plain": [
       "⎡a₁₁  a₁₂  a₁₃⎤\n",
       "⎢             ⎥\n",
       "⎣a₂₁  a₂₂  a₂₃⎦"
      ],
      "text/latex": "$\\displaystyle \\left[\\begin{matrix}a_{11} & a_{12} & a_{13}\\\\a_{21} & a_{22} & a_{23}\\end{matrix}\\right]$"
     },
     "execution_count": 30,
     "metadata": {},
     "output_type": "execute_result"
    }
   ],
   "execution_count": 30
  },
  {
   "cell_type": "code",
   "metadata": {
    "ExecuteTime": {
     "end_time": "2025-06-09T06:35:30.993831Z",
     "start_time": "2025-06-09T06:35:30.967526Z"
    }
   },
   "source": [
    "A.T"
   ],
   "outputs": [
    {
     "data": {
      "text/plain": [
       "⎡a₁₁  a₂₁⎤\n",
       "⎢        ⎥\n",
       "⎢a₁₂  a₂₂⎥\n",
       "⎢        ⎥\n",
       "⎣a₁₃  a₂₃⎦"
      ],
      "text/latex": "$\\displaystyle \\left[\\begin{matrix}a_{11} & a_{21}\\\\a_{12} & a_{22}\\\\a_{13} & a_{23}\\end{matrix}\\right]$"
     },
     "execution_count": 31,
     "metadata": {},
     "output_type": "execute_result"
    }
   ],
   "execution_count": 31
  },
  {
   "attachments": {},
   "cell_type": "markdown",
   "metadata": {},
   "source": [
    "### Nhân ma trận với vector"
   ]
  },
  {
   "attachments": {},
   "cell_type": "markdown",
   "metadata": {},
   "source": [
    "Cho ma trận $A \\in \\mathbb{R}^{m \\times n}$ và vector cột $\\boldsymbol{v} \\in \\mathbb{R}^{n \\times 1}$, phép nhân\n",
    "$$\n",
    "A\\boldsymbol{v} = \n",
    "\\begin{bmatrix}\n",
    "  a_{11} & a_{12} & \\cdots & a_{1n} \\\\\n",
    "  a_{21} & a_{22} & \\cdots & a_{2n} \\\\\n",
    "  \\vdots  & \\vdots  & \\ddots & \\vdots  \\\\\n",
    "  a_{m1} & a_{m2} & \\cdots & a_{mn} \n",
    "\\end{bmatrix}\n",
    "\\begin{bmatrix}\n",
    "  v_1 \\\\ v_2 \\\\ \\vdots \\\\ v_n \n",
    "\\end{bmatrix} =\n",
    "\\begin{bmatrix}\n",
    "  a_{11}v_1 + a_{12}v_2 + ... + a_{1n}v_n \\\\ \n",
    "  a_{21}v_1 + a_{22}v_2 + ... + a_{2n}v_n \\\\ \\vdots \\\\ \n",
    "  a_{m1}v_1 + a_{m2}v_2 + ... + a_{mn}v_n \\\\ \n",
    "\\end{bmatrix}\n",
    "$$\n",
    "có thể được định nghĩa như là tích vô hướng các vector dòng của $A$ với $\\boldsymbol{v}$\n",
    "$$\n",
    "A\\boldsymbol{v} = \n",
    "\\begin{bmatrix}\n",
    "  \\langle \\boldsymbol{a}_{1,}, \\boldsymbol{v} \\rangle \\\\ \n",
    "  \\langle \\boldsymbol{a}_{2,}, \\boldsymbol{v} \\rangle \\\\ \\vdots \\\\ \n",
    "  \\langle \\boldsymbol{a}_{m,}, \\boldsymbol{v} \\rangle \n",
    "\\end{bmatrix},\n",
    "$$\n",
    "hay có thể được định nghĩa như là tổ hợp tuyến tính các vector cột của $A$ với các hệ số trong $\\boldsymbol{v}$\n",
    "$$\n",
    "A\\boldsymbol{v} =\n",
    "v_1\\begin{bmatrix}\n",
    "  a_{11} \\\\ a_{21} \\\\ \\vdots \\\\ a_{m1} \n",
    "\\end{bmatrix} + \n",
    "v_2\\begin{bmatrix}\n",
    "  a_{12} \\\\ a_{22} \\\\ \\vdots \\\\ a_{m2} \n",
    "\\end{bmatrix} + ... +\n",
    "v_n\\begin{bmatrix}\n",
    "  a_{1n} \\\\ a_{2n} \\\\ \\vdots \\\\ a_{mn} \n",
    "\\end{bmatrix} =\n",
    "v_1\\boldsymbol{a}_{,1} + v_2\\boldsymbol{a}_{,2} + ... + v_n\\boldsymbol{a}_{,n}.\n",
    "$$"
   ]
  },
  {
   "attachments": {},
   "cell_type": "markdown",
   "metadata": {},
   "source": [
    "#### List"
   ]
  },
  {
   "cell_type": "code",
   "metadata": {
    "ExecuteTime": {
     "end_time": "2025-06-09T06:35:31.065932Z",
     "start_time": "2025-06-09T06:35:31.061485Z"
    }
   },
   "source": [
    "# The inner product of a row vector and a vector v\n",
    "def mul_matrix_vector(A, v):\n",
    "    return [calc_inner_product(ai, v) for ai in A]\n",
    "\n",
    "# The linear combination of a column vector and a vector v\n",
    "def mul_matrix_vector2(A, v):\n",
    "    w = [0 for _ in range(len(v))]\n",
    "    for j in range(len(v)):\n",
    "        w = add_vector(w, mul_scalar_vector(v[j], [ai[j] for ai in A]))\n",
    "    return w"
   ],
   "outputs": [],
   "execution_count": 32
  },
  {
   "cell_type": "code",
   "metadata": {
    "ExecuteTime": {
     "end_time": "2025-06-09T06:35:31.103927Z",
     "start_time": "2025-06-09T06:35:31.098474Z"
    }
   },
   "source": [
    "A = [[1, 2, 3], [4, 5, 6]]\n",
    "v = [1, 1, 1]\n",
    "\n",
    "print('Matrix A: ')\n",
    "myprint(A)\n",
    "print('Vector v: ')\n",
    "myprint(v)\n",
    "\n",
    "print('Matrix-vector product Av, where A\\'s rows are dot-producted with vector v')\n",
    "print(mul_matrix_vector(A, v))\n",
    "\n",
    "print('Matrix-vector product Av, where A\\'s columns are linearly combined with the corresponding coefficients from vector v')\n",
    "print(mul_matrix_vector2(A, v))"
   ],
   "outputs": [
    {
     "name": "stdout",
     "output_type": "stream",
     "text": [
      "Matrix A: \n",
      "[[1 2 3]\n",
      " [4 5 6]]\n",
      "Vector v: \n",
      "[1 1 1]\n",
      "Matrix-vector product Av, where A's rows are dot-producted with vector v\n",
      "[6, 15]\n",
      "Matrix-vector product Av, where A's columns are linearly combined with the corresponding coefficients from vector v\n",
      "[6, 15]\n"
     ]
    }
   ],
   "execution_count": 33
  },
  {
   "attachments": {},
   "cell_type": "markdown",
   "metadata": {},
   "source": [
    "#### NumPy"
   ]
  },
  {
   "cell_type": "code",
   "metadata": {
    "scrolled": true,
    "ExecuteTime": {
     "end_time": "2025-06-09T06:35:31.187028Z",
     "start_time": "2025-06-09T06:35:31.183069Z"
    }
   },
   "source": [
    "A = np.array(A)\n",
    "v = np.array(v)\n",
    "\n",
    "print('Matrix A: ')\n",
    "print(A)\n",
    "print('Vector v: ')\n",
    "print(v)\n",
    "\n",
    "print('Av: ', np.matmul(A, v)) # NOTE: NOT A * v"
   ],
   "outputs": [
    {
     "name": "stdout",
     "output_type": "stream",
     "text": [
      "Matrix A: \n",
      "[[1 2 3]\n",
      " [4 5 6]]\n",
      "Vector v: \n",
      "[1 1 1]\n",
      "Av:  [ 6 15]\n"
     ]
    }
   ],
   "execution_count": 34
  },
  {
   "attachments": {},
   "cell_type": "markdown",
   "metadata": {},
   "source": [
    "#### SymPy"
   ]
  },
  {
   "cell_type": "code",
   "metadata": {
    "scrolled": true,
    "ExecuteTime": {
     "end_time": "2025-06-09T06:35:31.301390Z",
     "start_time": "2025-06-09T06:35:31.275033Z"
    }
   },
   "source": [
    "A = Matrix(A)\n",
    "v = Matrix(sympy.symbols(\"alpha_1 alpha_2 alpha_3\"))\n",
    "\n",
    "A * v"
   ],
   "outputs": [
    {
     "data": {
      "text/plain": [
       "⎡ α₁ + 2⋅α₂ + 3⋅α₃ ⎤\n",
       "⎢                  ⎥\n",
       "⎣4⋅α₁ + 5⋅α₂ + 6⋅α₃⎦"
      ],
      "text/latex": "$\\displaystyle \\left[\\begin{matrix}\\alpha_{1} + 2 \\alpha_{2} + 3 \\alpha_{3}\\\\4 \\alpha_{1} + 5 \\alpha_{2} + 6 \\alpha_{3}\\end{matrix}\\right]$"
     },
     "execution_count": 35,
     "metadata": {},
     "output_type": "execute_result"
    }
   ],
   "execution_count": 35
  },
  {
   "attachments": {},
   "cell_type": "markdown",
   "metadata": {},
   "source": [
    "### Biến đổi sơ cấp trên dòng"
   ]
  },
  {
   "attachments": {},
   "cell_type": "markdown",
   "metadata": {},
   "source": [
    "3 loại biến đổi sau trên một ma trận được gọi là **phép biến đổi sơ cấp trên dòng** (elementary row operation):\n",
    "\n",
    "- **Loại 1.** (Row switching) Đổi hai dòng cho nhau,\n",
    "\n",
    "- **Loại 2.** (Row multiplication) Nhân một dòng với một số khác 0,\n",
    "\n",
    "- **Loại 3.** (Row addition) Cộng vào một dòng một bội số của dòng khác.\n",
    "\n",
    "\n",
    "Cho $A, B \\in \\mathbb{R}^{m \\times n}$, ta nói $A, B$ **tương đương dòng** (row equivalent) với nhau nếu $B$ có được từ $A$ (hay ngược lại, $A$ có được từ $B$) qua hữu hạn phép biến đổi sơ cấp trên dòng.\n",
    "\n",
    "\n",
    "Một ma trận được nói là có **dạng bậc thang theo dòng** (row echelon form) nếu:\n",
    "\n",
    "- Các dòng khác $\\boldsymbol{0}$ luôn nằm trên các dòng $\\boldsymbol{0}$ (nếu có),\n",
    "\n",
    "- Trên 2 dòng khác $\\boldsymbol{0}$, hệ số khác 0 đầu tiên của dòng dưới luôn nằm bên phải cột chứa hệ số khác 0 đầu tiên của dòng trên."
   ]
  },
  {
   "attachments": {},
   "cell_type": "markdown",
   "metadata": {},
   "source": [
    "#### List"
   ]
  },
  {
   "cell_type": "code",
   "metadata": {
    "ExecuteTime": {
     "end_time": "2025-06-09T06:35:31.362600Z",
     "start_time": "2025-06-09T06:35:31.357735Z"
    }
   },
   "source": [
    "def row_switch(A, i, k):\n",
    "    'di <-> dk'\n",
    "    A[i], A[k] = A[k], A[i]\n",
    "\n",
    "def row_mul(A, i, alpha):\n",
    "    'di = alpha*di'\n",
    "    A[i] = mul_scalar_vector(alpha, A[i])\n",
    "\n",
    "def row_add(A, i, k, alpha):\n",
    "    'di = di + alpha*dk'\n",
    "    A[i] = add_vector(A[i], mul_scalar_vector(alpha, A[k]))\n",
    "\n",
    "def is_echelon(A): # Check if a matrix is echelon\n",
    "    pass # TODO"
   ],
   "outputs": [],
   "execution_count": 36
  },
  {
   "cell_type": "code",
   "metadata": {
    "scrolled": true,
    "ExecuteTime": {
     "end_time": "2025-06-09T06:35:31.398937Z",
     "start_time": "2025-06-09T06:35:31.395092Z"
    }
   },
   "source": [
    "A = [[1, 2, 3],\n",
    "     [4, 5, 6]]\n",
    "\n",
    "print('Original matrix:')\n",
    "myprint(A)\n",
    "\n",
    "print('\\nUpdate 0th row: d0 = 4d0')\n",
    "row_mul(A, 0, 4)     # d0 = 4d0\n",
    "myprint(A)\n",
    "\n",
    "print('\\nSwitch 0th and 1st rows: d0 <-> d1')\n",
    "row_switch(A, 0, 1)  # d0 <-> d1\n",
    "myprint(A)\n",
    "\n",
    "print('\\nUpdate 1st row: d1 = d1 - d0')\n",
    "row_add(A, 1, 0, -1) # d1 = d1 - d0\n",
    "myprint(A)"
   ],
   "outputs": [
    {
     "name": "stdout",
     "output_type": "stream",
     "text": [
      "Original matrix:\n",
      "[[1 2 3]\n",
      " [4 5 6]]\n",
      "\n",
      "Update 0th row: d0 = 4d0\n",
      "[[4 8 12]\n",
      " [4 5  6]]\n",
      "\n",
      "Switch 0th and 1st rows: d0 <-> d1\n",
      "[[4 5  6]\n",
      " [4 8 12]]\n",
      "\n",
      "Update 1st row: d1 = d1 - d0\n",
      "[[4 5 6]\n",
      " [0 3 6]]\n"
     ]
    }
   ],
   "execution_count": 37
  },
  {
   "attachments": {},
   "cell_type": "markdown",
   "metadata": {},
   "source": [
    "#### SymPy"
   ]
  },
  {
   "cell_type": "code",
   "metadata": {
    "ExecuteTime": {
     "end_time": "2025-06-09T06:35:31.465509Z",
     "start_time": "2025-06-09T06:35:31.461048Z"
    }
   },
   "source": [
    "A = Matrix(A)\n",
    "\n",
    "print(A.is_echelon)"
   ],
   "outputs": [
    {
     "name": "stdout",
     "output_type": "stream",
     "text": [
      "True\n"
     ]
    }
   ],
   "execution_count": 38
  },
  {
   "cell_type": "code",
   "metadata": {
    "ExecuteTime": {
     "end_time": "2025-06-09T06:35:31.587352Z",
     "start_time": "2025-06-09T06:35:31.561949Z"
    }
   },
   "source": [
    "A = A.elementary_row_op('n->n+km', row=1, row2=0, k=1)     # d1 = d1 + d0\n",
    "A = A.elementary_row_op('n<->m', row1=1, row2=0)           # d1 <-> d0\n",
    "A = A.elementary_row_op('n->kn', row=0, k=Fraction('1/4')) # d0 = d0/4\n",
    "\n",
    "A"
   ],
   "outputs": [
    {
     "data": {
      "text/plain": [
       "⎡1  2  3⎤\n",
       "⎢       ⎥\n",
       "⎣4  5  6⎦"
      ],
      "text/latex": "$\\displaystyle \\left[\\begin{matrix}1 & 2 & 3\\\\4 & 5 & 6\\end{matrix}\\right]$"
     },
     "execution_count": 39,
     "metadata": {},
     "output_type": "execute_result"
    }
   ],
   "execution_count": 39
  },
  {
   "attachments": {},
   "cell_type": "markdown",
   "metadata": {},
   "source": [
    "## Hệ PTTT và Phép khử Gauss <a class=\"anchor\" id=\"c5\"></a>"
   ]
  },
  {
   "attachments": {},
   "cell_type": "markdown",
   "metadata": {},
   "source": [
    "### Các khái niệm cơ bản"
   ]
  },
  {
   "attachments": {},
   "cell_type": "markdown",
   "metadata": {},
   "source": [
    "**Hệ PTTT** (system of linear equations, linear system) gồm $m$ phương trình theo $n$ ẩn số $x_1, x_2, ..., x_n$ là hệ có dạng\n",
    "$$\n",
    "\\begin{matrix}\n",
    "  a_{11}x_1 + a_{12}x_2 + ... + a_{1n}x_n = b_1 \\\\ \n",
    "  a_{21}x_1 + a_{22}x_2 + ... + a_{2n}x_n = b_2 \\\\ \n",
    "  \\vdots \\\\ \n",
    "  a_{m1}x_1 + a_{m2}x_2 + ... + a_{mn}x_n = b_m \\\\ \n",
    "\\end{matrix}.\n",
    "$$"
   ]
  },
  {
   "attachments": {},
   "cell_type": "markdown",
   "metadata": {},
   "source": [
    "Hệ PTTT trên có thể được viết lại dưới dạng ma trận\n",
    "$$ A\\boldsymbol{x} = \\boldsymbol{b} $$\n",
    "với $A \\in \\mathbb{R}^{m \\times n}$ là **ma trận các hệ số** (coefficient matrix)\n",
    "$$\n",
    "A =\n",
    "\\begin{bmatrix}\n",
    "  a_{11} & a_{12} & \\cdots & a_{1n} \\\\\n",
    "  a_{21} & a_{22} & \\cdots & a_{2n} \\\\\n",
    "  \\vdots  & \\vdots  & \\ddots & \\vdots  \\\\\n",
    "  a_{m1} & a_{m2} & \\cdots & a_{mn} \n",
    "\\end{bmatrix},\n",
    "$$\n",
    "$\\boldsymbol{x}$ là vector cột các **ẩn** (unknown) và $\\boldsymbol{b}$ là vector cột các **hệ số vế phải** (right-hand side)\n",
    "$$\n",
    "\\boldsymbol{x} =\n",
    "\\begin{bmatrix}\n",
    "  x_{1} \\\\ x_{2} \\\\ \\vdots \\\\ x_{n} \n",
    "\\end{bmatrix}, \n",
    "\\boldsymbol{b} =\n",
    "\\begin{bmatrix}\n",
    "  b_{1} \\\\ b_{2} \\\\ \\vdots \\\\ b_{n} \n",
    "\\end{bmatrix}.\n",
    "$$"
   ]
  },
  {
   "attachments": {},
   "cell_type": "markdown",
   "metadata": {},
   "source": [
    "Trường hợp $\\boldsymbol{b} = \\boldsymbol{0}$, hệ thường được gọi là hệ **thuần nhất** (homogeneous)."
   ]
  },
  {
   "attachments": {},
   "cell_type": "markdown",
   "metadata": {},
   "source": [
    "Với $A \\in \\mathbb{R}^{m \\times n}, \\boldsymbol{b} \\in \\mathbb{R}^{m \\times 1}$ cho trước, ta nói $\\boldsymbol{s} \\in \\mathbb{R}^{m \\times 1}$ là vector **nghiệm** (solution) của hệ $A\\boldsymbol{x} = \\boldsymbol{b}$ nếu $A\\boldsymbol{s} = \\boldsymbol{b}$."
   ]
  },
  {
   "cell_type": "code",
   "metadata": {
    "ExecuteTime": {
     "end_time": "2025-06-09T06:35:31.654662Z",
     "start_time": "2025-06-09T06:35:31.649663Z"
    }
   },
   "source": [
    "A = [[1, -1],\n",
    "     [2, 1]]\n",
    "b = [1, 6]\n",
    "\n",
    "x = to_fraction(['7/3', '4/3'])\n",
    "\n",
    "Ax = mul_matrix_vector(A, x)\n",
    "myprint(Ax)\n",
    "\n",
    "print('Is Ax == b?: ', equal_vector(Ax, b))"
   ],
   "outputs": [
    {
     "name": "stdout",
     "output_type": "stream",
     "text": [
      "[1 6]\n",
      "Is Ax == b?:  True\n"
     ]
    }
   ],
   "execution_count": 40
  },
  {
   "attachments": {},
   "cell_type": "markdown",
   "metadata": {},
   "source": [
    "### Giải hệ PTTT"
   ]
  },
  {
   "attachments": {},
   "cell_type": "markdown",
   "metadata": {},
   "source": [
    "Hệ PTTT $A\\boldsymbol{x} = \\boldsymbol{b}$ thường được giải bằng các bước:\n",
    "\n",
    "> **Bước 1.** Lập **ma trận bổ sung** (augmented matrix) bằng cách ghép cột $\\boldsymbol{b}$ sau ma trận $A$: $\\bar{A} = \\left[ A | \\boldsymbol{b} \\right]$.\n",
    "\n",
    "> **Bước 2.** Dùng các phép biến đổi sơ cấp trên dòng để biến đổi $\\bar{A}$ thành ma trận tương đương dòng có dạng bậc thang $R$.\n",
    "\n",
    "> **Bước 3.** Giải $R$ bằng **phép thế ngược** (back-substitution) để có nghiệm."
   ]
  },
  {
   "attachments": {},
   "cell_type": "markdown",
   "metadata": {},
   "source": [
    "***Mệnh đề.*** Nếu $\\bar{A}, \\bar{B}$ tương đương dòng thì các hệ PTTT tương ứng với ma trận bổ sung $\\bar{A}, \\bar{B}$ có cùng tập nghiệm."
   ]
  },
  {
   "attachments": {},
   "cell_type": "markdown",
   "metadata": {},
   "source": [
    "#### Bước 1: Lập ma trận bổ sung"
   ]
  },
  {
   "cell_type": "code",
   "metadata": {
    "ExecuteTime": {
     "end_time": "2025-06-09T06:35:31.738081Z",
     "start_time": "2025-06-09T06:35:31.734313Z"
    }
   },
   "source": [
    "def augmented_matrix(A, b):\n",
    "    'Create the augmented matrix [A|b]'\n",
    "    return [ai + [bi] for ai, bi in zip(A, b)] # Quick question: What does this code mean: ai + [bi]?\n",
    "\n",
    "A_bar = augmented_matrix(A, b)\n",
    "\n",
    "myprint(A_bar)"
   ],
   "outputs": [
    {
     "name": "stdout",
     "output_type": "stream",
     "text": [
      "[[1 -1 1]\n",
      " [2  1 6]]\n"
     ]
    }
   ],
   "execution_count": 41
  },
  {
   "attachments": {},
   "cell_type": "markdown",
   "metadata": {},
   "source": [
    "#### Bước 2: Tạo ma trận bậc thang - Sử dụng phép khử Gauss"
   ]
  },
  {
   "attachments": {},
   "cell_type": "markdown",
   "metadata": {},
   "source": [
    "**Khử Gauss** (Gaussian elimination) là một cách biến đổi tương đương dòng đưa ma trận về dạng bậc thang. Thuật giải gồm các bước:\n",
    "\n",
    "> **Bước 1.** Xác định cột trái nhất không chứa toàn số 0.\n",
    "\n",
    "> **Bước 2.** Đổi chỗ hai dòng, nếu cần thiết, để đưa số hạng khác 0 nào đó ở dưới về đầu cột nhận được ở Bước 1.   \n",
    "(*Đơn giản nhất, có thể chọn dòng đầu tiên có số hạng khác 0. Phức tạp hơn, chiến lược \"partial pivoting\" chọn dòng có số hạng có trị tuyệt đối lớn nhất.*)\n",
    "\n",
    "> **Bước 3.** Với số hạng đầu cột nhận được từ Bước 2 là $a \\neq 0$, nhân dòng chứa nó với $\\frac{1}{a}$ để có **số dẫn đầu** 1 (leading 1).  \n",
    "(*Bước này tùy chọn*.)\n",
    "\n",
    "> **Bước 4.** Cộng một bội số thích hợp của dòng đầu cho từng dòng dưới để biến các số hạng bên dưới số dẫn đầu thành 0.\n",
    "\n",
    "> **Bước 5.** Che dòng đầu đã làm xong. Lặp lại các bước cho đến khi được ma trận bậc thang."
   ]
  },
  {
   "cell_type": "code",
   "metadata": {
    "ExecuteTime": {
     "end_time": "2025-06-09T06:35:31.829997Z",
     "start_time": "2025-06-09T06:35:31.818740Z"
    }
   },
   "source": [
    "def Gauss_elimination(A, leading1=True):\n",
    "    R = A.copy()\n",
    "    m, n = len(R), len(R[0]) # The size of matrix\n",
    "\n",
    "    row = col = 0\n",
    "\n",
    "    while row < m:\n",
    "        # Step 1\n",
    "        while col < n and all(is_zero(R[i][col]) for i in range(row, m)):\n",
    "            col += 1\n",
    "        if col == n: # it's echelon\n",
    "            break\n",
    "\n",
    "        # Step 2 (select the first row that contains non-zero coefficient)\n",
    "        pivot_row = row + [not is_zero(R[i][col]) for i in range(row, m)].index(True)\n",
    "        row_switch(R, row, pivot_row)\n",
    "\n",
    "        # Step 3 (leading 1 option)\n",
    "        if leading1:\n",
    "            row_mul(R, row, 1/R[row][col])\n",
    "\n",
    "        # Step 4\n",
    "        for i in range(row + 1, m):\n",
    "            multiplier = R[i][col]/R[row][col]\n",
    "            row_add(R, i, row, -multiplier) # di = di - drow * multiplier\n",
    "\n",
    "        # Step 5\n",
    "        row += 1\n",
    "\n",
    "    return R"
   ],
   "outputs": [],
   "execution_count": 42
  },
  {
   "cell_type": "code",
   "metadata": {
    "ExecuteTime": {
     "end_time": "2025-06-09T06:35:31.875180Z",
     "start_time": "2025-06-09T06:35:31.870270Z"
    }
   },
   "source": [
    "A = [[1, 3, -2,  0, 2,  0, 0],\n",
    "     [2, 6, -5, -2, 4, -3, 0],\n",
    "     [0, 0,  5, 10, 0, 15, 0],\n",
    "     [2, 6,  0,  8, 4, 18, 0]]\n",
    "\n",
    "print('Matrix before transforming into row echelon form (REF):')\n",
    "myprint(A)\n",
    "\n",
    "print('\\nMatrix after transforming into REF (without leading 1):')\n",
    "myprint(Gauss_elimination(to_fraction(A), leading1=False))\n",
    "\n",
    "print('\\nMatrix after transforming into REF (with leading 1):')\n",
    "myprint(Gauss_elimination(to_fraction(A)))"
   ],
   "outputs": [
    {
     "name": "stdout",
     "output_type": "stream",
     "text": [
      "Matrix before transforming into row echelon form (REF):\n",
      "[[1 3 -2  0 2  0 0]\n",
      " [2 6 -5 -2 4 -3 0]\n",
      " [0 0  5 10 0 15 0]\n",
      " [2 6  0  8 4 18 0]]\n",
      "\n",
      "Matrix after transforming into REF (without leading 1):\n",
      "[[1 3 -2  0 2  0 0]\n",
      " [0 0 -1 -2 0 -3 0]\n",
      " [0 0  0  0 0  6 0]\n",
      " [0 0  0  0 0  0 0]]\n",
      "\n",
      "Matrix after transforming into REF (with leading 1):\n",
      "[[1 3 -2 0 2 0 0]\n",
      " [0 0  1 2 0 3 0]\n",
      " [0 0  0 0 0 1 0]\n",
      " [0 0  0 0 0 0 0]]\n"
     ]
    }
   ],
   "execution_count": 43
  },
  {
   "attachments": {},
   "cell_type": "markdown",
   "metadata": {},
   "source": [
    "#### Bước 3: Phép thế ngược"
   ]
  },
  {
   "cell_type": "code",
   "metadata": {
    "ExecuteTime": {
     "end_time": "2025-06-09T06:35:31.949534Z",
     "start_time": "2025-06-09T06:35:31.942554Z"
    }
   },
   "source": [
    "def back_substitution(R):\n",
    "    'R is the row echelon form (REF) of the augmented matrix [A|b] of Ax = b'\n",
    "    m, n = len(R), len(R[0]) # The size of matrix R\n",
    "\n",
    "    # Solution vector\n",
    "    sol = [None for _ in range(n - 1)]\n",
    "\n",
    "    # Find the first row that contains non-zero values FROM THE BOTTOM\n",
    "    row = m - 1\n",
    "    while row >= 0 and all(is_zero(R[row][j]) for j in range(n)):\n",
    "        row -= 1\n",
    "\n",
    "    if row >= 0 and [not is_zero(R[row][j]) for j in range(n)].index(True) == n - 1:\n",
    "        return None # Have no solution\n",
    "\n",
    "    last_pcol = n - 1\n",
    "    while row >= 0:\n",
    "        pcol = [not is_zero(R[row][j]) for j in range(n)].index(True)\n",
    "        for i in range(pcol, last_pcol): # Free variables\n",
    "            sol[i] = sympy.symbols(f\"x{i + 1}\")\n",
    "        sol[pcol] = (R[row][n - 1] - sum(R[row][j]*sol[j] for j in range(pcol + 1, n - 1)))/R[row][pcol]\n",
    "        last_pcol = pcol\n",
    "        row -= 1\n",
    "\n",
    "    # Add free variables from 0 to last_pcol - 1\n",
    "    for i in range(0, last_pcol):\n",
    "        sol[i] = sympy.symbols(f\"x{i + 1}\")\n",
    "\n",
    "    return sol"
   ],
   "outputs": [],
   "execution_count": 44
  },
  {
   "cell_type": "code",
   "metadata": {
    "ExecuteTime": {
     "end_time": "2025-06-09T06:35:31.987120Z",
     "start_time": "2025-06-09T06:35:31.981919Z"
    }
   },
   "source": [
    "myprint(back_substitution(Gauss_elimination(to_fraction(A))), sep=\", \")"
   ],
   "outputs": [
    {
     "name": "stdout",
     "output_type": "stream",
     "text": [
      "[-3*x2 - 4*x4 - 2*x5, x2, -2*x4, x4, x5, 0]\n"
     ]
    }
   ],
   "execution_count": 45
  },
  {
   "attachments": {},
   "cell_type": "markdown",
   "metadata": {},
   "source": [
    "### Thư viện hỗ trợ"
   ]
  },
  {
   "attachments": {},
   "cell_type": "markdown",
   "metadata": {},
   "source": [
    "* **NumPy**, **SciPy**: các hàm [`numpy.linalg.solve`](https://numpy.org/doc/stable/reference/generated/numpy.linalg.solve.html) và [`scipy.linalg.solve`](https://docs.scipy.org/doc/scipy/reference/generated/scipy.linalg.solve.html) có thể được dùng để giải hệ PTTT trường hợp hệ vuông ($m = n$) và có nghiệm duy nhất."
   ]
  },
  {
   "attachments": {},
   "cell_type": "markdown",
   "metadata": {},
   "source": [
    "* **SymPy**: \n",
    "  - Phương thức [`echelon_form`](https://docs.sympy.org/latest/modules/matrices/matrices.html#sympy.matrices.matrices.MatrixReductions.echelon_form) tìm dạng bậc thang.\n",
    "  \n",
    "  - Phương thức [`rref`](https://docs.sympy.org/latest/modules/matrices/matrices.html#sympy.matrices.matrices.MatrixReductions.rref) tìm **dạng bậc thang rút gọn** (reduced row-echelon form, Gauss-Jordan elimination).\n",
    "  \n",
    "  - Phương thức [`sympy.linsolve`](https://docs.sympy.org/latest/modules/solvers/solveset.html#linsolve) giải hệ PTTT."
   ]
  },
  {
   "attachments": {},
   "cell_type": "markdown",
   "metadata": {},
   "source": [
    "### Ví dụ"
   ]
  },
  {
   "attachments": {},
   "cell_type": "markdown",
   "metadata": {},
   "source": [
    "#### Ví dụ 1"
   ]
  },
  {
   "attachments": {},
   "cell_type": "markdown",
   "metadata": {},
   "source": [
    "Giải hệ PTTT\n",
    "$$\n",
    "\\begin{matrix}\n",
    "   x & + &  y & + & 2z & = & 9 \\\\\n",
    "  2x & + & 4y & - & 3z & = & 1 \\\\ \n",
    "  3x & + & 6y & - & 5z & = & 0 \\\\\n",
    "\\end{matrix}.\n",
    "$$"
   ]
  },
  {
   "attachments": {},
   "cell_type": "markdown",
   "metadata": {},
   "source": [
    "Hệ được viết lại dưới dạng phương trình ma trận $A\\boldsymbol{x} = \\boldsymbol{b}$, với\n",
    "$$\n",
    "A =\n",
    "\\begin{bmatrix}\n",
    "1 & 1 &  2 \\\\\n",
    "2 & 4 & -3 \\\\\n",
    "3 & 6 & -5 \\\\ \n",
    "\\end{bmatrix},\n",
    "\\boldsymbol{x} = \n",
    "\\begin{bmatrix} x \\\\ y \\\\ z \\end{bmatrix},\n",
    "\\boldsymbol{b} = \n",
    "\\begin{bmatrix} 9 \\\\ 1 \\\\ 0 \\end{bmatrix}.\n",
    "$$"
   ]
  },
  {
   "attachments": {},
   "cell_type": "markdown",
   "metadata": {},
   "source": [
    "Lập ma trận bổ sung\n",
    "$$\n",
    "\\bar{A} = \\left[ A | \\boldsymbol{b} \\right] = \n",
    "\\begin{bmatrix}\n",
    "1 & 1 &  2 & 9 \\\\\n",
    "2 & 4 & -3 & 1\\\\\n",
    "3 & 6 & -5 & 0\\\\ \n",
    "\\end{bmatrix}.\n",
    "$$"
   ]
  },
  {
   "attachments": {},
   "cell_type": "markdown",
   "metadata": {},
   "source": [
    "Đưa $\\bar{A}$ về dạng bậc thang (với số dẫn đầu 1)"
   ]
  },
  {
   "cell_type": "code",
   "metadata": {
    "ExecuteTime": {
     "end_time": "2025-06-09T06:35:32.056117Z",
     "start_time": "2025-06-09T06:35:32.046316Z"
    }
   },
   "source": [
    "A_bar = [[1, 1,  2, 9],\n",
    "         [2, 4, -3, 1],\n",
    "         [3, 6, -5, 0]]\n",
    "\n",
    "R = Gauss_elimination(to_fraction(A_bar))\n",
    "\n",
    "myprint(R)"
   ],
   "outputs": [
    {
     "name": "stdout",
     "output_type": "stream",
     "text": [
      "[[1 1    2     9]\n",
      " [0 1 -7/2 -17/2]\n",
      " [0 0    1     3]]\n"
     ]
    }
   ],
   "execution_count": 46
  },
  {
   "attachments": {},
   "cell_type": "markdown",
   "metadata": {},
   "source": [
    "Như vậy, ta có $\\bar{A}$ tương đương dòng với ma trận bậc thang\n",
    "$$\n",
    "R = \n",
    "\\begin{bmatrix}\n",
    "\\boxed{1} & 1 & 2 & 9 \\\\\n",
    "0 & \\boxed{1} & -\\frac{7}{2} & -\\frac{17}{2} \\\\\n",
    "0 & 0 & \\boxed{1} & 3 \\\\ \n",
    "\\end{bmatrix}.\n",
    "$$"
   ]
  },
  {
   "attachments": {},
   "cell_type": "markdown",
   "metadata": {},
   "source": [
    "Ta thấy hệ này có nghiệm duy nhất. Giải từ dưới lên bằng phép thế ngược"
   ]
  },
  {
   "cell_type": "code",
   "metadata": {
    "ExecuteTime": {
     "end_time": "2025-06-09T06:35:32.133762Z",
     "start_time": "2025-06-09T06:35:32.127356Z"
    }
   },
   "source": [
    "sol = back_substitution(R)\n",
    "\n",
    "if not sol:\n",
    "    print('Have no solution')\n",
    "else:\n",
    "    myprint(sol, sep=', ')"
   ],
   "outputs": [
    {
     "name": "stdout",
     "output_type": "stream",
     "text": [
      "[1, 2, 3]\n"
     ]
    }
   ],
   "execution_count": 47
  },
  {
   "attachments": {},
   "cell_type": "markdown",
   "metadata": {},
   "source": [
    "Như vậy hệ có nghiệm\n",
    "$$\n",
    "\\boldsymbol{x} = \n",
    "\\begin{bmatrix}\n",
    "x \\\\ y \\\\ z \n",
    "\\end{bmatrix} =\n",
    "\\begin{bmatrix}\n",
    "1 \\\\ 2 \\\\ 3 \n",
    "\\end{bmatrix}\n",
    "$$"
   ]
  },
  {
   "cell_type": "code",
   "metadata": {
    "ExecuteTime": {
     "end_time": "2025-06-09T06:35:32.222903Z",
     "start_time": "2025-06-09T06:35:32.212096Z"
    }
   },
   "source": [
    "A_bar = np.array(A_bar)\n",
    "\n",
    "print(np.linalg.solve(A_bar[:, :-1], A_bar[:, -1]))"
   ],
   "outputs": [
    {
     "name": "stdout",
     "output_type": "stream",
     "text": [
      "[1. 2. 3.]\n"
     ]
    }
   ],
   "execution_count": 48
  },
  {
   "attachments": {},
   "cell_type": "markdown",
   "metadata": {},
   "source": [
    "#### Ví dụ 2"
   ]
  },
  {
   "attachments": {},
   "cell_type": "markdown",
   "metadata": {},
   "source": [
    "Giải hệ PTTT\n",
    "$$\n",
    "\\begin{matrix}\n",
    "       &   &      &   & -2x_3 &   &      & + &  7x_5 & = & 12 \\\\\n",
    "  2x_1 & + & 4x_2 & - & 10x_3 & + & 6x_4 & + & 12x_5 & = & 28 \\\\ \n",
    "  2x_1 & + & 4x_2 & - &  5x_3 & + & 6x_4 & - &  5x_5 & = & -1 \\\\\n",
    "\\end{matrix}.\n",
    "$$"
   ]
  },
  {
   "attachments": {},
   "cell_type": "markdown",
   "metadata": {},
   "source": [
    "Lập ma trận bổ sung\n",
    "$$\n",
    "\\bar{A} = \\left[ A | \\boldsymbol{b} \\right] = \n",
    "\\begin{bmatrix}\n",
    "0 & 0 &  -2 & 0 &  7 & 12 \\\\\n",
    "2 & 4 & -10 & 6 & 12 & 28 \\\\\n",
    "2 & 4 &  -5 & 6 & -5 &  -1 \\\\ \n",
    "\\end{bmatrix}.\n",
    "$$"
   ]
  },
  {
   "attachments": {},
   "cell_type": "markdown",
   "metadata": {},
   "source": [
    "Đưa $\\bar{A}$ về dạng bậc thang"
   ]
  },
  {
   "cell_type": "code",
   "metadata": {
    "ExecuteTime": {
     "end_time": "2025-06-09T06:35:32.311988Z",
     "start_time": "2025-06-09T06:35:32.307876Z"
    }
   },
   "source": [
    "A_bar = [[0, 0,  -2, 0,  7, 12],\n",
    "         [2, 4, -10, 6, 12, 28],\n",
    "         [2, 4,  -5, 6, -5, -1]]\n",
    "\n",
    "R = Gauss_elimination(to_fraction(A_bar), leading1=False)\n",
    "myprint(R)\n",
    "\n",
    "myprint(Gauss_elimination(to_fraction(A_bar)))"
   ],
   "outputs": [
    {
     "name": "stdout",
     "output_type": "stream",
     "text": [
      "[[2 4 -10 6  12 28]\n",
      " [0 0  -2 0   7 12]\n",
      " [0 0   0 0 1/2  1]]\n",
      "[[1 2 -5 3    6 14]\n",
      " [0 0  1 0 -7/2 -6]\n",
      " [0 0  0 0    1  2]]\n"
     ]
    }
   ],
   "execution_count": 49
  },
  {
   "cell_type": "code",
   "metadata": {
    "ExecuteTime": {
     "end_time": "2025-06-09T06:35:32.397883Z",
     "start_time": "2025-06-09T06:35:32.374278Z"
    }
   },
   "source": [
    "Matrix(A_bar).echelon_form()"
   ],
   "outputs": [
    {
     "data": {
      "text/plain": [
       "⎡2  4  -10  6  12  28⎤\n",
       "⎢                    ⎥\n",
       "⎢0  0  -2   0  7   12⎥\n",
       "⎢                    ⎥\n",
       "⎣0  0   0   0  -2  -4⎦"
      ],
      "text/latex": "$\\displaystyle \\left[\\begin{matrix}2 & 4 & -10 & 6 & 12 & 28\\\\0 & 0 & -2 & 0 & 7 & 12\\\\0 & 0 & 0 & 0 & -2 & -4\\end{matrix}\\right]$"
     },
     "execution_count": 50,
     "metadata": {},
     "output_type": "execute_result"
    }
   ],
   "execution_count": 50
  },
  {
   "attachments": {},
   "cell_type": "markdown",
   "metadata": {},
   "source": [
    "Như vậy, ta có $\\bar{A}$ tương đương dòng với ma trận bậc thang\n",
    "$$\n",
    "R = \n",
    "\\begin{bmatrix}\n",
    "\\boxed{1} & 2 & -5 & 3 &  6 & 14 \\\\\n",
    "0 & 0 & \\boxed{1} & 0 & -\\frac{7}{2} & -6 \\\\\n",
    "0 & 0 &  0 & 0 & \\boxed{1} & 2 \\\\ \n",
    "\\end{bmatrix}.\n",
    "$$"
   ]
  },
  {
   "attachments": {},
   "cell_type": "markdown",
   "metadata": {},
   "source": [
    "Ta thấy hệ này có vô số nghiệm. Giải từ dưới lên bằng phép thế ngược cho các ẩn cơ sở $x_1, x_3, x_5$ và các ẩn tự do $x_2, x_4$"
   ]
  },
  {
   "cell_type": "code",
   "metadata": {
    "ExecuteTime": {
     "end_time": "2025-06-09T06:35:32.482724Z",
     "start_time": "2025-06-09T06:35:32.477174Z"
    }
   },
   "source": [
    "sol = back_substitution(R)\n",
    "\n",
    "if not sol:\n",
    "    print('Have no solution')\n",
    "else:\n",
    "    myprint(sol, sep=', ')"
   ],
   "outputs": [
    {
     "name": "stdout",
     "output_type": "stream",
     "text": [
      "[-2*x2 - 3*x4 + 7, x2, 1, x4, 2]\n"
     ]
    }
   ],
   "execution_count": 51
  },
  {
   "attachments": {},
   "cell_type": "markdown",
   "metadata": {},
   "source": [
    "Như vậy, hệ có nghiệm tổng quát\n",
    "$$\n",
    "\\boldsymbol{x} = \n",
    "\\begin{bmatrix}\n",
    "x_1 \\\\ x_2 \\\\ x_3 \\\\ x_4 \\\\ x_5 \\\\ \n",
    "\\end{bmatrix} = \n",
    "\\begin{bmatrix}\n",
    "7 -2x_2 - 3x_4 \\\\ x_2 \\\\ 1 \\\\ x_4 \\\\ 2 \\\\ \n",
    "\\end{bmatrix} =\n",
    "\\begin{bmatrix}\n",
    "7 \\\\ 0 \\\\ 1 \\\\ 0 \\\\ 2 \\\\ \n",
    "\\end{bmatrix} +\n",
    "x_2 \\begin{bmatrix}\n",
    "-2 \\\\ 1 \\\\ 0 \\\\ 0 \\\\ 0 \\\\ \n",
    "\\end{bmatrix} +\n",
    "x_4 \\begin{bmatrix}\n",
    "-3 \\\\ 0 \\\\ 0 \\\\ 1 \\\\ 0 \\\\ \n",
    "\\end{bmatrix},\n",
    "x_2, x_4 \\in \\mathbb{R}.\n",
    "$$"
   ]
  },
  {
   "cell_type": "code",
   "metadata": {
    "ExecuteTime": {
     "end_time": "2025-06-09T06:35:32.609856Z",
     "start_time": "2025-06-09T06:35:32.556130Z"
    }
   },
   "source": [
    "sympy.linsolve(Matrix(A_bar), [sympy.symbols(f\"x_{i}\") for i in range(1, 6)])"
   ],
   "outputs": [
    {
     "data": {
      "text/plain": [
       "{(-2⋅x₂ - 3⋅x₄ + 7, x₂, 1, x₄, 2)}"
      ],
      "image/png": "[encoded data removed]",
      "text/latex": "$\\displaystyle \\left\\{\\left( - 2 x_{2} - 3 x_{4} + 7, \\  x_{2}, \\  1, \\  x_{4}, \\  2\\right)\\right\\}$"
     },
     "execution_count": 52,
     "metadata": {},
     "output_type": "execute_result"
    }
   ],
   "execution_count": 52
  },
  {
   "attachments": {},
   "cell_type": "markdown",
   "metadata": {},
   "source": [
    "## Không gian con, cơ sở và số chiều <a class=\"anchor\" id=\"c6\"></a>"
   ]
  },
  {
   "attachments": {},
   "cell_type": "markdown",
   "metadata": {},
   "source": [
    "### Các khái niệm cơ bản"
   ]
  },
  {
   "attachments": {},
   "cell_type": "markdown",
   "metadata": {},
   "source": [
    "Cho $V \\subset \\mathbb{R}^n$, ta nói $V$ là **không gian con** (subspace) của $\\mathbb{R}^n$, kí hiệu $V \\le \\mathbb{R}^n$ nếu:\n",
    "\n",
    "* $\\boldsymbol{0} \\in V$,\n",
    "\n",
    "* Với mọi $\\boldsymbol{v}, \\boldsymbol{w} \\in V$, ta có $\\alpha \\boldsymbol{v} + \\beta \\boldsymbol{w} \\in V, \\forall \\alpha, \\beta \\in \\mathbb{R}$."
   ]
  },
  {
   "attachments": {},
   "cell_type": "markdown",
   "metadata": {},
   "source": [
    "Cho họ các vector $\\boldsymbol{v}_1, \\boldsymbol{v}_2, ..., \\boldsymbol{v}_k \\in \\mathbb{R}^n$, tập tất cả các tổ hợp tuyến tính của $\\boldsymbol{v}_1, \\boldsymbol{v}_2, ..., \\boldsymbol{v}_k$ được kí hiệu là $\\mathrm{Span}\\{\\boldsymbol{v}_1, \\boldsymbol{v}_2, ..., \\boldsymbol{v}_k\\}$, tức là\n",
    "$$\n",
    "\\mathrm{Span}\\{\\boldsymbol{v}_1, \\boldsymbol{v}_2, ..., \\boldsymbol{v}_k\\} = \\{\\alpha_1 \\boldsymbol{v}_1 + \\alpha_2 \\boldsymbol{v}_2 + ... + \\alpha_k \\boldsymbol{v}_k: \\alpha_1, \\alpha_2, ..., \\alpha_k \\in \\mathbb{R}\\} \\subset \\mathbb{R}^n.\n",
    "$$"
   ]
  },
  {
   "attachments": {},
   "cell_type": "markdown",
   "metadata": {},
   "source": [
    "***Mệnh đề.*** $\\mathrm{Span}\\{\\boldsymbol{v}_1, \\boldsymbol{v}_2, ..., \\boldsymbol{v}_k\\} \\le \\mathbb{R}^n$. Ta còn nói $\\mathrm{Span}\\{\\boldsymbol{v}_1, \\boldsymbol{v}_2, ..., \\boldsymbol{v}_k\\}$ là không gian con **sinh bởi** (span) $\\boldsymbol{v}_1, \\boldsymbol{v}_2, ..., \\boldsymbol{v}_k$ và $\\boldsymbol{v}_1, \\boldsymbol{v}_2, ..., \\boldsymbol{v}_k$ là một **tập sinh** (generating set) của $\\mathrm{Span}\\{\\boldsymbol{v}_1, \\boldsymbol{v}_2, ..., \\boldsymbol{v}_k\\}$. "
   ]
  },
  {
   "attachments": {},
   "cell_type": "markdown",
   "metadata": {},
   "source": [
    "Cho họ các vector $\\boldsymbol{v}_1, \\boldsymbol{v}_2, ..., \\boldsymbol{v}_k \\in \\mathbb{R}^n$, ta nói họ là **phụ thuộc tuyến tính** (linearly dependent) nếu có vector nào đó là một tổ hợp tuyến tính của các vector còn lại; ngược lại, họ được nói là **độc lập tuyến tính** (linearly independent)."
   ]
  },
  {
   "attachments": {},
   "cell_type": "markdown",
   "metadata": {},
   "source": [
    "***Mệnh đề.*** Họ $\\boldsymbol{v}_1, \\boldsymbol{v}_2, ..., \\boldsymbol{v}_k \\in \\mathbb{R}^n$ độc lập tuyến tính khi và chỉ khi hệ PTTT thuần nhất $A\\boldsymbol{x} = \\boldsymbol{0}$ có nghiệm duy nhất (là nghiệm tầm thường $\\boldsymbol{0} \\in \\mathbb{R}^k$) với $A \\in \\mathbb{R}^{n \\times k}$ là ma trận gồm các cột $\\boldsymbol{v}_1, \\boldsymbol{v}_2, ..., \\boldsymbol{v}_k$."
   ]
  },
  {
   "attachments": {},
   "cell_type": "markdown",
   "metadata": {},
   "source": [
    "Cho không gian con $V \\le \\mathbb{R}^n$ và họ hữu hạn $B \\subset \\mathbb{R}^n$, ta nói $B$ là một **cơ sở** (basic) của $V$ nếu $B$ là một tập sinh của $V$ và $B$ độc lập tuyến tính. Khi đó, $|B|$ (số lượng vector trong $B$) được gọi là **số chiều** (dimension) của $V$, kí hiệu $\\mathrm{dim}(V)$."
   ]
  },
  {
   "attachments": {},
   "cell_type": "markdown",
   "metadata": {},
   "source": [
    "Các ví dụ về không gian con:"
   ]
  },
  {
   "attachments": {},
   "cell_type": "markdown",
   "metadata": {},
   "source": [
    "> $\\{0\\}$ là không gian con tầm thường của $\\mathbb{R}^n$ với số chiều là 0 và cơ sở là $\\{\\}$."
   ]
  },
  {
   "attachments": {},
   "cell_type": "markdown",
   "metadata": {},
   "source": [
    "> $\\mathbb{R}^n$ là không gian con tầm thường của $\\mathbb{R}^n$ với số chiều là $n$. Tập các vector $\\boldsymbol{e}_1 = (1, 0, ..., 0), \\boldsymbol{e}_2 = (0, 1, 0, ..., 0), ..., \\boldsymbol{e}_n = (0, ..., 0, 1)$ là một cơ sở của $\\mathbb{R}^n$, gọi là **cơ sở chính tắc** (standard basic)."
   ]
  },
  {
   "attachments": {},
   "cell_type": "markdown",
   "metadata": {},
   "source": [
    "> Cho ma trận $A \\in \\mathbb{R}^{m \\times n}$, ta nói:\n",
    ">   * **Không gian dòng** (row space) của $A$, kí hiệu $\\mathrm{Row}(A)$, là không gian con sinh bởi các dòng của $A$\n",
    ">   $$\\mathrm{Row}(A) = \\mathrm{Span}\\{\\boldsymbol{a}_{1,}, \\boldsymbol{a}_{2,}, ..., \\boldsymbol{a}_{m,}\\} \\le \\mathbb{R}^{n},$$\n",
    ">   * **Không gian cột** (column space) của $A$, kí hiệu $\\mathrm{Col}(A)$, là không gian con sinh bởi các cột của $A$\n",
    ">   $$\\mathrm{Col}(A) = \\mathrm{Span}\\{\\boldsymbol{a}_{,1}, \\boldsymbol{a}_{,2}, ..., \\boldsymbol{a}_{,n}\\} \\le \\mathbb{R}^{m},$$\n",
    ">   * **Không gian nghiệm** (null space) của $A$, kí hiệu $\\mathrm{Null}(A)$, là tập tất cả các nghiệm của hệ PTTT thuần nhất $A\\boldsymbol{x} = \\boldsymbol{0}$.  \n",
    ">     ***Mệnh đề.*** $\\mathrm{Null}(A) \\le \\mathbb{R}^{n}$.\n",
    "\n",
    "> ***Mệnh đề.*** $\\mathrm{Col}(A) = \\mathrm{Row}(A^T)$.\n",
    "\n",
    "> ***Mệnh đề.*** $\\mathrm{dim}(\\mathrm{Row}(A)) = \\mathrm{dim}(\\mathrm{Col}(A))$. Số chiều này còn được gọi là **hạng** (rank) của ma trận, kí hiệu, $\\mathrm{rank}(A)$.\n",
    "\n",
    "> ***Mệnh đề.*** $\\mathrm{rank}(A) + \\mathrm{dim}(\\mathrm{Null}(A)) = n$.\n",
    "\n",
    "> ***Mệnh đề.*** Nếu $A, B$ tương đương dòng thì $\\mathrm{Row}(A) = \\mathrm{Row}(B)$. Nếu $E$ là ma trận bậc thang (theo dòng) thì các dòng khác $\\boldsymbol{0}$ của $E$ lập thành một cơ sở của $\\mathrm{Row}(E)$."
   ]
  },
  {
   "attachments": {},
   "cell_type": "markdown",
   "metadata": {},
   "source": [
    "### Thư viện hỗ trợ"
   ]
  },
  {
   "attachments": {},
   "cell_type": "markdown",
   "metadata": {},
   "source": [
    "* **NumPy**, **SciPy**: \n",
    "\n",
    "  * hàm [`numpy.linalg.matrix_rank`](https://numpy.org/doc/stable/reference/generated/numpy.linalg.matrix_rank.html) tìm hạng của ma trận.\n",
    "  \n",
    "  * hàm [`scipy.linalg.null_space`](https://docs.scipy.org/doc/scipy/reference/generated/scipy.linalg.null_space.html) tìm không gian nghiệm của ma trận (trả về một cơ sở của không gian nghiệm)."
   ]
  },
  {
   "attachments": {},
   "cell_type": "markdown",
   "metadata": {},
   "source": [
    "* **SymPy**: \n",
    "  - phương thức [`rank`](https://docs.sympy.org/latest/modules/matrices/matrices.html#sympy.matrices.matrices.MatrixReductions.rank) tìm hạng của ma trận.\n",
    "  \n",
    "  - Các phương thức [`rowspace`](https://docs.sympy.org/latest/modules/matrices/matrices.html#sympy.matrices.matrices.MatrixSubspaces.rowspace), [`columnspace`](https://docs.sympy.org/latest/modules/matrices/matrices.html#sympy.matrices.matrices.MatrixSubspaces.columnspace), [`nullspace`](https://docs.sympy.org/latest/modules/matrices/matrices.html#sympy.matrices.matrices.MatrixSubspaces.nullspace) tìm các không gian dòng, cột, nghiệm của ma trận (trả về một cơ sở của không gian tương ứng)."
   ]
  },
  {
   "attachments": {},
   "cell_type": "markdown",
   "metadata": {},
   "source": [
    "### Ví dụ"
   ]
  },
  {
   "attachments": {},
   "cell_type": "markdown",
   "metadata": {},
   "source": [
    "#### Ví dụ 1"
   ]
  },
  {
   "attachments": {},
   "cell_type": "markdown",
   "metadata": {},
   "source": [
    "Trong $\\mathbb{R}^3$, cho $\\boldsymbol{v}_1 = (1, 2, -3), \\boldsymbol{v}_2 = (2, 5, -1), \\boldsymbol{v}_3 = (1, 1, -8)$. Kiểm tra $B = \\{\\boldsymbol{v}_1, \\boldsymbol{v}_2, \\boldsymbol{v}_3\\}$ có là một cơ sở của $\\mathbb{R}^3$."
   ]
  },
  {
   "attachments": {},
   "cell_type": "markdown",
   "metadata": {},
   "source": [
    "Nếu $\\boldsymbol{v}_1, \\boldsymbol{v}_2, \\boldsymbol{v}_3$ độc lập tuyến tính thì $B$ là một cơ sở của $\\mathbb{R}^3$ do $\\mathrm{dim}(\\mathbb{R}^3) = 3$."
   ]
  },
  {
   "attachments": {},
   "cell_type": "markdown",
   "metadata": {},
   "source": [
    "Đặt $A$ là ma trận gồm các cột $\\boldsymbol{v}_1, \\boldsymbol{v}_2, \\boldsymbol{v}_3$, ta có $\\boldsymbol{v}_1, \\boldsymbol{v}_2, \\boldsymbol{v}_3$ độc lập tuyến tính khi và chỉ khi hệ PTTT $A\\boldsymbol{x} = \\boldsymbol{0}$ có nghiệm duy nhất."
   ]
  },
  {
   "cell_type": "code",
   "metadata": {
    "ExecuteTime": {
     "end_time": "2025-06-09T06:35:32.643022Z",
     "start_time": "2025-06-09T06:35:32.639598Z"
    }
   },
   "source": [
    "v1, v2, v3 = [1, 2, -3], [2, 5, -1], [1, 1, -8]\n",
    "\n",
    "A = transpose([v1, v2, v3])\n",
    "\n",
    "myprint(Gauss_elimination(to_fraction(A)))"
   ],
   "outputs": [
    {
     "name": "stdout",
     "output_type": "stream",
     "text": [
      "[[1 2  1]\n",
      " [0 1 -1]\n",
      " [0 0  0]]\n"
     ]
    }
   ],
   "execution_count": 53
  },
  {
   "attachments": {},
   "cell_type": "markdown",
   "metadata": {},
   "source": [
    "Từ ma trận bậc thang trên, ta thấy hệ có vô số nghiệm."
   ]
  },
  {
   "cell_type": "code",
   "metadata": {
    "ExecuteTime": {
     "end_time": "2025-06-09T06:35:32.727153Z",
     "start_time": "2025-06-09T06:35:32.702481Z"
    }
   },
   "source": [
    "print(scipy.linalg.null_space(A))\n",
    "\n",
    "Matrix(A).nullspace()"
   ],
   "outputs": [
    {
     "name": "stdout",
     "output_type": "stream",
     "text": [
      "[[-0.90453403]\n",
      " [ 0.30151134]\n",
      " [ 0.30151134]]\n"
     ]
    },
    {
     "data": {
      "text/plain": [
       "⎡⎡-3⎤⎤\n",
       "⎢⎢  ⎥⎥\n",
       "⎢⎢1 ⎥⎥\n",
       "⎢⎢  ⎥⎥\n",
       "⎣⎣1 ⎦⎦"
      ],
      "text/latex": "$\\displaystyle \\left[ \\left[\\begin{matrix}-3\\\\1\\\\1\\end{matrix}\\right]\\right]$"
     },
     "execution_count": 54,
     "metadata": {},
     "output_type": "execute_result"
    }
   ],
   "execution_count": 54
  },
  {
   "attachments": {},
   "cell_type": "markdown",
   "metadata": {},
   "source": [
    "Như vậy $\\boldsymbol{v}_1, \\boldsymbol{v}_2, \\boldsymbol{v}_3$ không độc lập tuyến tính nên $B$ không là cơ sở của $\\mathbb{R}^3$."
   ]
  },
  {
   "attachments": {},
   "cell_type": "markdown",
   "metadata": {},
   "source": [
    "Ta cũng có thể dùng hạng của ma trận để kiểm tra"
   ]
  },
  {
   "cell_type": "code",
   "metadata": {
    "ExecuteTime": {
     "end_time": "2025-06-09T06:35:32.827873Z",
     "start_time": "2025-06-09T06:35:32.808752Z"
    }
   },
   "source": [
    "print(np.linalg.matrix_rank(A))\n",
    "\n",
    "print(Matrix(A).rank())"
   ],
   "outputs": [
    {
     "name": "stdout",
     "output_type": "stream",
     "text": [
      "2\n",
      "2\n"
     ]
    }
   ],
   "execution_count": 55
  },
  {
   "attachments": {},
   "cell_type": "markdown",
   "metadata": {},
   "source": [
    "Vì $\\mathrm{rank}(A) = 2 < 3$ nên $\\boldsymbol{v}_1, \\boldsymbol{v}_2, \\boldsymbol{v}_3$ không độc lập tuyến tính."
   ]
  },
  {
   "attachments": {},
   "cell_type": "markdown",
   "metadata": {},
   "source": [
    "#### Ví dụ 2"
   ]
  },
  {
   "attachments": {},
   "cell_type": "markdown",
   "metadata": {},
   "source": [
    "Trong $\\mathbb{R}^4$, cho $\\boldsymbol{v}_1 = (1, 2, 1, 1), \\boldsymbol{v}_2 = (3, 6, 5, 7), \\boldsymbol{v}_3 = (4, 8, 6, 8), \\boldsymbol{v}_4 = (8, 16, 12, 20)$. Tìm một cơ sở và số chiều của không gian con sinh bởi $\\boldsymbol{v}_1, \\boldsymbol{v}_2, \\boldsymbol{v}_3, \\boldsymbol{v}_4$."
   ]
  },
  {
   "attachments": {},
   "cell_type": "markdown",
   "metadata": {},
   "source": [
    "Đặt $A$ là ma trận gồm các dòng $\\boldsymbol{v}_1, \\boldsymbol{v}_2, \\boldsymbol{v}_3, \\boldsymbol{v}_4$, ta có $\\mathrm{Row}(A) = \\mathrm{Span}\\{\\boldsymbol{v}_{1}, \\boldsymbol{v}_{2}, \\boldsymbol{v}_{3}, \\boldsymbol{v}_{4}\\}$."
   ]
  },
  {
   "cell_type": "code",
   "metadata": {
    "ExecuteTime": {
     "end_time": "2025-06-09T06:35:32.871002Z",
     "start_time": "2025-06-09T06:35:32.864739Z"
    }
   },
   "source": [
    "v1, v2, v3, v4 = [1, 2, 1, 1], [3, 6, 5, 7], [4, 8, 6, 8], [8, 16, 12, 20]\n",
    "A = [v1, v2, v3, v4]\n",
    "\n",
    "myprint(Gauss_elimination(to_fraction(A)))"
   ],
   "outputs": [
    {
     "name": "stdout",
     "output_type": "stream",
     "text": [
      "[[1 2 1 1]\n",
      " [0 0 1 2]\n",
      " [0 0 0 1]\n",
      " [0 0 0 0]]\n"
     ]
    }
   ],
   "execution_count": 56
  },
  {
   "attachments": {},
   "cell_type": "markdown",
   "metadata": {},
   "source": [
    "Như vậy $\\mathrm{Span}\\{\\boldsymbol{v}_{1}, \\boldsymbol{v}_{2}, \\boldsymbol{v}_{3}, \\boldsymbol{v}_{4}\\}$ có số chiều là 3 và có một cơ sở là\n",
    "$$\n",
    "\\{(1, 2, 1, 1), (0, 0, 1, 2), (0, 0, 0, 1)\\}.\n",
    "$$"
   ]
  },
  {
   "cell_type": "code",
   "metadata": {
    "ExecuteTime": {
     "end_time": "2025-06-09T06:35:32.953390Z",
     "start_time": "2025-06-09T06:35:32.922817Z"
    }
   },
   "source": [
    "Matrix(A).rowspace()"
   ],
   "outputs": [
    {
     "data": {
      "text/plain": [
       "[[1  2  1  1], [0  0  2  4], [0  0  0  8]]"
      ],
      "text/latex": "$\\displaystyle \\left[ \\left[\\begin{matrix}1 & 2 & 1 & 1\\end{matrix}\\right], \\  \\left[\\begin{matrix}0 & 0 & 2 & 4\\end{matrix}\\right], \\  \\left[\\begin{matrix}0 & 0 & 0 & 8\\end{matrix}\\right]\\right]$"
     },
     "execution_count": 57,
     "metadata": {},
     "output_type": "execute_result"
    }
   ],
   "execution_count": 57
  },
  {
   "attachments": {},
   "cell_type": "markdown",
   "metadata": {},
   "source": [
    "#### Ví dụ 3"
   ]
  },
  {
   "attachments": {},
   "cell_type": "markdown",
   "metadata": {},
   "source": [
    "Tìm không gian nghiệm của hệ PTTT thuần nhất sau\n",
    "$$\n",
    "\\begin{matrix}\n",
    "   x_1 & + & 2x_2 & - &  3x_3 & + &  5x_4 & = & 0\\\\\n",
    "   x_1 & + & 3x_2 & - & 13x_3 & + & 22x_4 & = & 0\\\\ \n",
    "  3x_1 & + & 5x_2 & + &   x_3 & - &  2x_4 & = & 0\\\\\n",
    "  2x_1 & + & 3x_2 & + &  4x_3 & - &  7x_4 & = & 0\\\\\n",
    "\\end{matrix}.\n",
    "$$"
   ]
  },
  {
   "attachments": {},
   "cell_type": "markdown",
   "metadata": {},
   "source": [
    "Không gian nghiệm của hệ PTTT thuần nhất trên chính là không gian nghiệm của ma trận hệ số\n",
    "$$\n",
    "A = \n",
    "\\begin{bmatrix}\n",
    "1 & 2 &  -3 & 5\\\\\n",
    "1 & 3 & -13 & 22\\\\\n",
    "3 & 5 &   1 & -2\\\\\n",
    "2 & 3 &   4 & -7\\\\\n",
    "\\end{bmatrix}.\n",
    "$$"
   ]
  },
  {
   "cell_type": "code",
   "metadata": {
    "ExecuteTime": {
     "end_time": "2025-06-09T06:35:33.015806Z",
     "start_time": "2025-06-09T06:35:33.008036Z"
    }
   },
   "source": [
    "A = [[1, 2,  -3,  5],\n",
    "     [1, 3, -13, 22],\n",
    "     [3, 5,   1, -2],\n",
    "     [2, 3,   4, -7]]\n",
    "\n",
    "A_bar = augmented_matrix(A, create_zero_vector(4))\n",
    "myprint(back_substitution(Gauss_elimination(to_fraction(A_bar))), \", \")"
   ],
   "outputs": [
    {
     "name": "stdout",
     "output_type": "stream",
     "text": [
      "[-17*x3 + 29*x4, 10*x3 - 17*x4, x3, x4]\n"
     ]
    }
   ],
   "execution_count": 58
  },
  {
   "attachments": {},
   "cell_type": "markdown",
   "metadata": {},
   "source": [
    "Như vậy, hệ có nghiệm tổng quát\n",
    "$$\n",
    "\\boldsymbol{x} = \n",
    "\\begin{bmatrix}\n",
    "x_1 \\\\ x_2 \\\\ x_3 \\\\ x_4\n",
    "\\end{bmatrix} =\n",
    "\\begin{bmatrix}\n",
    "-17x_3 + 29x_4 \\\\ 10x_3 - 17x_4 \\\\ x_3 \\\\ x_4 \n",
    "\\end{bmatrix} =\n",
    "x_3 \\begin{bmatrix}\n",
    "-17 \\\\ 10 \\\\ 1 \\\\ 0 \\\\ \n",
    "\\end{bmatrix} +\n",
    "x_4 \\begin{bmatrix}\n",
    "29 \\\\ -17 \\\\ 0 \\\\ 1 \\\\ \n",
    "\\end{bmatrix},\n",
    "x_3, x_4 \\in \\mathbb{R}.\n",
    "$$"
   ]
  },
  {
   "attachments": {},
   "cell_type": "markdown",
   "metadata": {},
   "source": [
    "Như vậy $\\mathrm{Null}(A)$ có số chiều là 2 và có một cơ sở là\n",
    "$$\n",
    "\\{(-17, 10, 1, 0), (29, -17, 0, 1)\\}\n",
    "$$"
   ]
  },
  {
   "cell_type": "code",
   "metadata": {
    "ExecuteTime": {
     "end_time": "2025-06-09T06:35:33.099375Z",
     "start_time": "2025-06-09T06:35:33.075088Z"
    }
   },
   "source": [
    "Matrix(A).nullspace()"
   ],
   "outputs": [
    {
     "data": {
      "text/plain": [
       "⎡⎡-17⎤  ⎡29 ⎤⎤\n",
       "⎢⎢   ⎥  ⎢   ⎥⎥\n",
       "⎢⎢10 ⎥  ⎢-17⎥⎥\n",
       "⎢⎢   ⎥, ⎢   ⎥⎥\n",
       "⎢⎢ 1 ⎥  ⎢ 0 ⎥⎥\n",
       "⎢⎢   ⎥  ⎢   ⎥⎥\n",
       "⎣⎣ 0 ⎦  ⎣ 1 ⎦⎦"
      ],
      "text/latex": "$\\displaystyle \\left[ \\left[\\begin{matrix}-17\\\\10\\\\1\\\\0\\end{matrix}\\right], \\  \\left[\\begin{matrix}29\\\\-17\\\\0\\\\1\\end{matrix}\\right]\\right]$"
     },
     "execution_count": 59,
     "metadata": {},
     "output_type": "execute_result"
    }
   ],
   "execution_count": 59
  },
  {
   "attachments": {},
   "cell_type": "markdown",
   "metadata": {},
   "source": [
    "## Trực giao hóa với thuật giải Gram-Schmidt <a class=\"anchor\" id=\"c7\"></a>"
   ]
  },
  {
   "attachments": {},
   "cell_type": "markdown",
   "metadata": {},
   "source": [
    "### Các khái niệm cơ bản"
   ]
  },
  {
   "attachments": {},
   "cell_type": "markdown",
   "metadata": {},
   "source": [
    "Ta nói họ (hệ, tập) các vector $\\boldsymbol{v}_1, \\boldsymbol{v}_2, ..., \\boldsymbol{v}_k \\in \\mathbb{R}^n$ là **trực giao** (orthogonal) nếu chúng đôi một trực giao, tức là $\\langle \\boldsymbol{v}_i, \\boldsymbol{v}_j \\rangle = 0, \\forall i \\ne j.$"
   ]
  },
  {
   "cell_type": "code",
   "metadata": {
    "ExecuteTime": {
     "end_time": "2025-06-09T06:35:33.166745Z",
     "start_time": "2025-06-09T06:35:33.162746Z"
    }
   },
   "source": [
    "def orthogonal_set(vs):\n",
    "    return all(is_orthogonal(vs[i], vs[j]) for i in range(len(vs)) for j in range(len(vs)) if i != j)"
   ],
   "outputs": [],
   "execution_count": 60
  },
  {
   "attachments": {},
   "cell_type": "markdown",
   "metadata": {},
   "source": [
    "Ta nói họ (hệ, tập) các vector $\\boldsymbol{q_1}, \\boldsymbol{q}_2, ..., \\boldsymbol{q}_k \\in \\mathbb{R}^n$ là **trực chuẩn** (orthonormal) nếu chúng là họ trực giao các vector đơn vị."
   ]
  },
  {
   "cell_type": "code",
   "metadata": {
    "ExecuteTime": {
     "end_time": "2025-06-09T06:35:33.202234Z",
     "start_time": "2025-06-09T06:35:33.198401Z"
    }
   },
   "source": [
    "def orthonormal_set(vs):\n",
    "    return orthogonal_set(vs) and all(is_unit_vector(vi) for vi in vs)"
   ],
   "outputs": [],
   "execution_count": 61
  },
  {
   "attachments": {},
   "cell_type": "markdown",
   "metadata": {},
   "source": [
    "### Thuật giải Gram-Schmidt"
   ]
  },
  {
   "attachments": {},
   "cell_type": "markdown",
   "metadata": {},
   "source": [
    "Cho tập các vector $\\boldsymbol{v}_1, \\boldsymbol{v}_2, ..., \\boldsymbol{v}_k \\in \\mathbb{R}^n$, **thuật giải Gram-Schmidt** (Gram-Schmidt algorithm) tìm họ trực giao (hoặc trực chuẩn) các vector $\\boldsymbol{q}_1, \\boldsymbol{q}_2, ..., \\boldsymbol{q}_r \\in \\mathbb{R}^n$ là một cơ sở của $\\mathrm{Span}\\{\\boldsymbol{v}_1, \\boldsymbol{v}_2, ..., \\boldsymbol{v}_k\\}$. Thuật giải gồm các bước:\n",
    "\n",
    "> **Bước 1.** Tạo tập $Q = \\{\\}$ chứa cơ sở kết quả.\n",
    "\n",
    "> **Bước 2.** Đặt $i = 1$ và lặp lại các Bước 3-4 cho đến khi $i > k$.\n",
    "\n",
    "> **Bước 3.** Tính \n",
    "> $$\n",
    "\\boldsymbol{q}_i = \\boldsymbol{v}_i - \\sum_{\\boldsymbol{q}_j \\in Q} \\frac{\\langle \\boldsymbol{v}_i, \\boldsymbol{q}_j \\rangle}{\\| \\boldsymbol{q}_j \\|^2}\\boldsymbol{q}_j\n",
    "$$\n",
    "\n",
    "> **Bước 4.** Nếu $\\boldsymbol{q}_i \\neq 0$ thì thêm $\\boldsymbol{q}_i$ vào $Q$. Tăng $i$ thêm $1$.\n",
    "\n",
    "> **Bước 5.** **Chuẩn hóa** (normalizing) nếu cần họ trực chuẩn\n",
    "> $$\n",
    "\\boldsymbol{q}_i = \\frac{\\boldsymbol{q}_i}{\\| \\boldsymbol{q}_i \\|}, \\forall \\boldsymbol{q}_i \\in Q\n",
    "$$\n",
    "\n",
    "> **Bước 6.** Trả về $Q$."
   ]
  },
  {
   "cell_type": "code",
   "metadata": {
    "ExecuteTime": {
     "end_time": "2025-06-09T06:35:33.233903Z",
     "start_time": "2025-06-09T06:35:33.228901Z"
    }
   },
   "source": [
    "def Gram_Schmidt(vs, normalizing=False):\n",
    "    # Step 1\n",
    "    Q = []\n",
    "\n",
    "    # Step 2\n",
    "    for vi in vs:\n",
    "        # Step 3\n",
    "        qi = vi\n",
    "        for qj in Q:\n",
    "            qi = sub_vector(qi, mul_scalar_vector(Fraction(calc_inner_product(vi, qj), calc_inner_product(qj, qj)), qj))\n",
    "\n",
    "        # Step 4\n",
    "        if not is_zero_vector(qi):\n",
    "            Q.append(qi)\n",
    "\n",
    "    # Step 5\n",
    "    if normalizing:\n",
    "        Q = [mul_scalar_vector(1/norm(qi), qi) for qi in Q]\n",
    "\n",
    "    return Q"
   ],
   "outputs": [],
   "execution_count": 62
  },
  {
   "attachments": {},
   "cell_type": "markdown",
   "metadata": {},
   "source": [
    "### Thư viện hỗ trợ"
   ]
  },
  {
   "attachments": {},
   "cell_type": "markdown",
   "metadata": {},
   "source": [
    "* **SciPy**: dùng hàm [`scipy.linalg.orth`](https://docs.scipy.org/doc/scipy/reference/generated/scipy.linalg.orth.html) để tìm cơ sở trực chuẩn của không gian cột của một ma trận. Tuy nhiên, hàm này dùng một thuật giải khác (mà ta sẽ học sau)."
   ]
  },
  {
   "attachments": {},
   "cell_type": "markdown",
   "metadata": {},
   "source": [
    "* **SymPy**: dùng hàm [`sympy.Matrix.orthogonalize`](https://docs.sympy.org/latest/modules/matrices/matrices.html#sympy.matrices.matrices.MatrixSubspaces.orthogonalize) để thực hiện giải thuật Gram-Schmidt."
   ]
  },
  {
   "attachments": {},
   "cell_type": "markdown",
   "metadata": {},
   "source": [
    "### Ví dụ"
   ]
  },
  {
   "attachments": {},
   "cell_type": "markdown",
   "metadata": {},
   "source": [
    "#### Ví dụ 1"
   ]
  },
  {
   "attachments": {},
   "cell_type": "markdown",
   "metadata": {},
   "source": [
    "Dùng thuật giải Gram-Schmidt trực giao hóa họ 3 vector sau và cho biết họ có độc lập tuyến tính hay không?\n",
    "$$\n",
    "\\boldsymbol{v}_1 = (-1, 1, -1, 1), \\boldsymbol{v}_2 = (-1, 3, -1, 3), \\boldsymbol{v}_3 = (0, 2, 0, 2)\n",
    "$$"
   ]
  },
  {
   "cell_type": "code",
   "metadata": {
    "ExecuteTime": {
     "end_time": "2025-06-09T06:35:33.265676Z",
     "start_time": "2025-06-09T06:35:33.250273Z"
    }
   },
   "source": [
    "v1 = [-1, 1, -1, 1]\n",
    "v2 = [-1, 3, -1, 3]\n",
    "v3 = [0, 2, 0, 2]\n",
    "vs = [v1, v2, v3]\n",
    "\n",
    "Q = Gram_Schmidt(vs)\n",
    "myprint(Q)\n",
    "\n",
    "if len(Q) < len(vs):\n",
    "    print('Not linearly independent!')"
   ],
   "outputs": [
    {
     "name": "stdout",
     "output_type": "stream",
     "text": [
      "[[-1 1 -1 1]\n",
      " [ 1 1  1 1]]\n",
      "Not linearly independent!\n"
     ]
    }
   ],
   "execution_count": 63
  },
  {
   "cell_type": "code",
   "metadata": {
    "ExecuteTime": {
     "end_time": "2025-06-09T06:35:33.366154Z",
     "start_time": "2025-06-09T06:35:33.358769Z"
    }
   },
   "source": [
    "Q1 = Gram_Schmidt(vs, normalizing=True)\n",
    "Q2 = scipy.linalg.orth(np.array(vs).T).T\n",
    "\n",
    "print('Orthogonal using Gram_Schmidt')\n",
    "myprint(Q1)\n",
    "\n",
    "print('\\nOrthogonal using scipy.linalg.orth')\n",
    "print(Q2)\n",
    "\n",
    "print('\\nCheck orthogonality')\n",
    "print(orthonormal_set(Q1), orthonormal_set(Q2))"
   ],
   "outputs": [
    {
     "name": "stdout",
     "output_type": "stream",
     "text": [
      "Orthogonal using Gram_Schmidt\n",
      "[[-1/2 1/2 -1/2 1/2]\n",
      " [ 1/2 1/2  1/2 1/2]]\n",
      "\n",
      "Orthogonal using scipy.linalg.orth\n",
      "[[-0.20490834  0.67676626 -0.20490834  0.67676626]\n",
      " [-0.67676626 -0.20490834 -0.67676626 -0.20490834]]\n",
      "\n",
      "Check orthogonality\n",
      "True True\n"
     ]
    }
   ],
   "execution_count": 64
  },
  {
   "cell_type": "code",
   "metadata": {
    "ExecuteTime": {
     "end_time": "2025-06-09T06:35:33.441567Z",
     "start_time": "2025-06-09T06:35:33.410440Z"
    }
   },
   "source": [
    "Matrix.orthogonalize(Matrix(v1), Matrix(v2), Matrix(v3), normalize=True)"
   ],
   "outputs": [
    {
     "data": {
      "text/plain": [
       "⎡⎡-1/2⎤  ⎡1/2⎤⎤\n",
       "⎢⎢    ⎥  ⎢   ⎥⎥\n",
       "⎢⎢1/2 ⎥  ⎢1/2⎥⎥\n",
       "⎢⎢    ⎥, ⎢   ⎥⎥\n",
       "⎢⎢-1/2⎥  ⎢1/2⎥⎥\n",
       "⎢⎢    ⎥  ⎢   ⎥⎥\n",
       "⎣⎣1/2 ⎦  ⎣1/2⎦⎦"
      ],
      "text/latex": "$\\displaystyle \\left[ \\left[\\begin{matrix}- \\frac{1}{2}\\\\\\frac{1}{2}\\\\- \\frac{1}{2}\\\\\\frac{1}{2}\\end{matrix}\\right], \\  \\left[\\begin{matrix}\\frac{1}{2}\\\\\\frac{1}{2}\\\\\\frac{1}{2}\\\\\\frac{1}{2}\\end{matrix}\\right]\\right]$"
     },
     "execution_count": 65,
     "metadata": {},
     "output_type": "execute_result"
    }
   ],
   "execution_count": 65
  },
  {
   "attachments": {},
   "cell_type": "markdown",
   "metadata": {},
   "source": [
    "Như vậy, họ $\\boldsymbol{v}_1, \\boldsymbol{v}_2, \\boldsymbol{v}_3$ không độc lập tuyến tính và một cơ sở trực giao cho $\\mathrm{Span}\\{\\boldsymbol{v}_1, \\boldsymbol{v}_2, \\boldsymbol{v}_3\\} \\le \\mathbb{R}^4$ là\n",
    "$$\n",
    "\\boldsymbol{q}_1 = (-1, 1, -1, 1), \\boldsymbol{q}_2 = (1, 1, 1, 1)\n",
    "$$"
   ]
  },
  {
   "attachments": {},
   "cell_type": "markdown",
   "metadata": {},
   "source": [
    "#### Ví dụ 2"
   ]
  },
  {
   "attachments": {},
   "cell_type": "markdown",
   "metadata": {},
   "source": [
    "Dùng thuật giải Gram-Schmidt trực chuẩn hóa họ 3 vector sau\n",
    "$$\n",
    "\\boldsymbol{v}_1 = (1, 1, 1), \\boldsymbol{v}_2 = (0, 1, 1), \\boldsymbol{v}_3 = (0, 0, 1)\n",
    "$$"
   ]
  },
  {
   "cell_type": "code",
   "metadata": {
    "ExecuteTime": {
     "end_time": "2025-06-09T06:35:33.480483Z",
     "start_time": "2025-06-09T06:35:33.472371Z"
    }
   },
   "source": [
    "v1 = [1, 1, 1]\n",
    "v2 = [0, 1, 1]\n",
    "v3 = [0, 0, 1]\n",
    "\n",
    "myprint(Gram_Schmidt([v1, v2, v3]))\n",
    "myprint(Gram_Schmidt([v1, v2, v3], normalizing=True))"
   ],
   "outputs": [
    {
     "name": "stdout",
     "output_type": "stream",
     "text": [
      "[[   1    1   1]\n",
      " [-2/3  1/3 1/3]\n",
      " [   0 -1/2 1/2]]\n",
      "[[ sqrt(3)/3  sqrt(3)/3 sqrt(3)/3]\n",
      " [-sqrt(6)/3  sqrt(6)/6 sqrt(6)/6]\n",
      " [         0 -sqrt(2)/2 sqrt(2)/2]]\n"
     ]
    }
   ],
   "execution_count": 66
  },
  {
   "cell_type": "code",
   "metadata": {
    "ExecuteTime": {
     "end_time": "2025-06-09T06:35:33.552666Z",
     "start_time": "2025-06-09T06:35:33.522010Z"
    }
   },
   "source": [
    "Matrix.orthogonalize(Matrix(v1), Matrix(v2), Matrix(v3), normalize=True)"
   ],
   "outputs": [
    {
     "data": {
      "text/plain": [
       "⎡⎡√3⎤  ⎡-√6 ⎤        ⎤\n",
       "⎢⎢──⎥  ⎢────⎥  ⎡ 0  ⎤⎥\n",
       "⎢⎢3 ⎥  ⎢ 3  ⎥  ⎢    ⎥⎥\n",
       "⎢⎢  ⎥  ⎢    ⎥  ⎢-√2 ⎥⎥\n",
       "⎢⎢√3⎥  ⎢ √6 ⎥  ⎢────⎥⎥\n",
       "⎢⎢──⎥, ⎢ ── ⎥, ⎢ 2  ⎥⎥\n",
       "⎢⎢3 ⎥  ⎢ 6  ⎥  ⎢    ⎥⎥\n",
       "⎢⎢  ⎥  ⎢    ⎥  ⎢ √2 ⎥⎥\n",
       "⎢⎢√3⎥  ⎢ √6 ⎥  ⎢ ── ⎥⎥\n",
       "⎢⎢──⎥  ⎢ ── ⎥  ⎣ 2  ⎦⎥\n",
       "⎣⎣3 ⎦  ⎣ 6  ⎦        ⎦"
      ],
      "text/latex": "$\\displaystyle \\left[ \\left[\\begin{matrix}\\frac{\\sqrt{3}}{3}\\\\\\frac{\\sqrt{3}}{3}\\\\\\frac{\\sqrt{3}}{3}\\end{matrix}\\right], \\  \\left[\\begin{matrix}- \\frac{\\sqrt{6}}{3}\\\\\\frac{\\sqrt{6}}{6}\\\\\\frac{\\sqrt{6}}{6}\\end{matrix}\\right], \\  \\left[\\begin{matrix}0\\\\- \\frac{\\sqrt{2}}{2}\\\\\\frac{\\sqrt{2}}{2}\\end{matrix}\\right]\\right]$"
     },
     "execution_count": 67,
     "metadata": {},
     "output_type": "execute_result"
    }
   ],
   "execution_count": 67
  },
  {
   "attachments": {},
   "cell_type": "markdown",
   "metadata": {},
   "source": [
    "Như vậy, họ $\\boldsymbol{v}_1, \\boldsymbol{v}_2, \\boldsymbol{v}_3$ độc lập tuyến tính và một cơ sở trực chuẩn cho $\\mathrm{Span}\\{\\boldsymbol{v}_1, \\boldsymbol{v}_2, \\boldsymbol{v}_3\\} = \\mathbb{R}^3$ là\n",
    "$$\n",
    "\\boldsymbol{q}_1 = \\frac{1}{\\sqrt{3}}(1, 1, 1), \\boldsymbol{q}_2 = \\frac{1}{\\sqrt{6}}(-2, 1, 1), \\boldsymbol{q}_3 = \\frac{1}{\\sqrt{2}}(0, -1, 1)\n",
    "$$"
   ]
  },
  {
   "attachments": {},
   "cell_type": "markdown",
   "metadata": {},
   "source": [
    "## Bài tập <a class=\"anchor\" id=\"c8\"></a>"
   ]
  },
  {
   "attachments": {},
   "cell_type": "markdown",
   "metadata": {},
   "source": [
    "### Bài tập tự rèn luyện"
   ]
  },
  {
   "attachments": {},
   "cell_type": "markdown",
   "metadata": {},
   "source": [
    "Cho $\\boldsymbol{v}, \\boldsymbol{w} \\in \\mathbb{R}^n$ khác $\\boldsymbol{0}$, ta định nghĩa **góc** (angle) giữa $\\boldsymbol{v}, \\boldsymbol{w}$ là\n",
    "$$\n",
    "\\mathrm{angle}(\\boldsymbol{v}, \\boldsymbol{w}) = \\arccos \\left( \\frac{\\langle \\boldsymbol{v}, \\boldsymbol{w} \\rangle}{\\| \\boldsymbol{v} \\|\\| \\boldsymbol{w} \\|} \\right).\n",
    "$$"
   ]
  },
  {
   "attachments": {},
   "cell_type": "markdown",
   "metadata": {},
   "source": [
    "Viết hàm tính góc giữa $\\boldsymbol{v}, \\boldsymbol{w}$ được cho"
   ]
  },
  {
   "cell_type": "code",
   "metadata": {
    "ExecuteTime": {
     "end_time": "2025-06-09T06:35:33.611731Z",
     "start_time": "2025-06-09T06:35:33.607763Z"
    }
   },
   "source": [
    "def angle(v, w):\n",
    "    pass # TODO"
   ],
   "outputs": [],
   "execution_count": 68
  },
  {
   "attachments": {},
   "cell_type": "markdown",
   "metadata": {},
   "source": [
    "Viết hàm tính tổ hợp tuyến tính của các vector $\\boldsymbol{v}_1, \\boldsymbol{v}_2, ..., \\boldsymbol{v}_k \\in \\mathbb{R}^n$ theo các hệ số $\\alpha_1, \\alpha_2, ..., \\alpha_k \\in \\mathbb{R}$."
   ]
  },
  {
   "cell_type": "code",
   "metadata": {
    "ExecuteTime": {
     "end_time": "2025-06-09T06:35:33.654414Z",
     "start_time": "2025-06-09T06:35:33.651139Z"
    }
   },
   "source": [
    "def linear_combination(vs, alphas):\n",
    "    'vs is list of vectors, alphas is list of corresponding scalars'\n",
    "    pass # TODO"
   ],
   "outputs": [],
   "execution_count": 69
  },
  {
   "attachments": {},
   "cell_type": "markdown",
   "metadata": {},
   "source": [
    "Từ đó viết hàm tính vector trung bình của $k$ vector $\\boldsymbol{v}_1, \\boldsymbol{v}_2, ..., \\boldsymbol{v}_k \\in \\mathbb{R}^n$\n",
    "$$\n",
    "\\mathrm{mean}\\{\\boldsymbol{v}_1, \\boldsymbol{v}_2, ..., \\boldsymbol{v}_k\\} = \\frac{\\sum_{i=1}^k \\boldsymbol{v}_i}{k}.\n",
    "$$"
   ]
  },
  {
   "cell_type": "code",
   "metadata": {
    "ExecuteTime": {
     "end_time": "2025-06-09T06:35:33.690657Z",
     "start_time": "2025-06-09T06:35:33.686495Z"
    }
   },
   "source": [
    "def mean(vs):\n",
    "    pass # TODO"
   ],
   "outputs": [],
   "execution_count": 70
  },
  {
   "attachments": {},
   "cell_type": "markdown",
   "metadata": {},
   "source": [
    "Cho $\\boldsymbol{v} = (v_1, v_2, .., v_n) \\in \\mathbb{R}^n$, ta nói vector tích lũy của $\\boldsymbol{v}$, kí hiệu $\\mathrm{acc}(\\boldsymbol{v})$, là vector $\\boldsymbol{w} = (w_1, w_2, ..., w_n) \\in \\mathbb{R}^n$ thỏa\n",
    "$$\n",
    "w_i = \\sum_{j=1}^i v_j, \\forall i = 1, 2, ..., n\n",
    "$$\n",
    "và nói vector sai phân của $\\boldsymbol{v}$, kí hiệu $\\mathrm{diff}(\\boldsymbol{v})$, là vector $\\boldsymbol{w} = (w_1, w_2, ..., w_n) \\in \\mathbb{R}^n$ thỏa $w_1 = v_1$ và $w_i = v_{i} - v_{i - 1}, \\forall i = 2, ..., n$."
   ]
  },
  {
   "attachments": {},
   "cell_type": "markdown",
   "metadata": {},
   "source": [
    "Viết các hàm tính $\\mathrm{acc}(\\boldsymbol{v}), \\mathrm{diff}(\\boldsymbol{v})$ từ $\\boldsymbol{v}$ và từ đó nhận xét quan hệ giữa các vector này."
   ]
  },
  {
   "cell_type": "code",
   "metadata": {
    "ExecuteTime": {
     "end_time": "2025-06-09T06:35:33.723715Z",
     "start_time": "2025-06-09T06:35:33.720652Z"
    }
   },
   "source": [
    "def acc(v):\n",
    "    pass # TODO\n",
    "\n",
    "def diff(v):\n",
    "    pass # TODO"
   ],
   "outputs": [],
   "execution_count": 71
  },
  {
   "attachments": {},
   "cell_type": "markdown",
   "metadata": {},
   "source": [
    "Cho $V = \\{\\boldsymbol{v}_1, \\boldsymbol{v}_2, ..., \\boldsymbol{v}_m\\} \\subset \\mathbb{R}^n$ và $\\boldsymbol{v} \\in \\mathbb{R}^n$, ta nói **láng giềng gần nhất** (nearest neighbor) của $\\boldsymbol{v}$ trong $S$ là $\\boldsymbol{w} \\in S$ sao cho\n",
    "$$\n",
    "\\| \\boldsymbol{v} - \\boldsymbol{w} \\| \\le \\| \\boldsymbol{v} - \\boldsymbol{v}_i \\|, \\forall i = 1, 2, ..., m.\n",
    "$$"
   ]
  },
  {
   "attachments": {},
   "cell_type": "markdown",
   "metadata": {},
   "source": [
    "Viết hàm tìm láng giềng gần nhất của của $\\boldsymbol{v}$ trong $S$ được cho."
   ]
  },
  {
   "cell_type": "code",
   "metadata": {
    "ExecuteTime": {
     "end_time": "2025-06-09T06:35:33.793852Z",
     "start_time": "2025-06-09T06:35:33.790027Z"
    }
   },
   "source": [
    "def nearest_neighbor(v, S):\n",
    "    pass # TODO"
   ],
   "outputs": [],
   "execution_count": 72
  },
  {
   "attachments": {},
   "cell_type": "markdown",
   "metadata": {},
   "source": [
    "Mở rộng khái niệm láng giềng gần nhất thành $k$ láng giềng gần nhất và viết hàm thực hiện."
   ]
  },
  {
   "cell_type": "code",
   "metadata": {
    "ExecuteTime": {
     "end_time": "2025-06-09T06:35:33.818174Z",
     "start_time": "2025-06-09T06:35:33.807929Z"
    }
   },
   "source": [
    "def kNN(v, S, k=1):\n",
    "    pass # TODO"
   ],
   "outputs": [],
   "execution_count": 73
  },
  {
   "attachments": {},
   "cell_type": "markdown",
   "metadata": {},
   "source": [
    "### Bài tập ứng dụng: Cân bằng phản ứng hóa học"
   ]
  },
  {
   "attachments": {},
   "cell_type": "markdown",
   "metadata": {},
   "source": [
    "**Công thức hóa học** (chemical formula) của các phân tử hóa học có thể được mô tả trong Python bằng một danh sách ([`list`](https://docs.python.org/3/tutorial/datastructures.html#more-on-lists)) các bộ ([`tuple`](https://docs.python.org/3/tutorial/datastructures.html#tuples-and-sequences)). Chẳng hạn, công thức hóa học của nước $\\text{H}_2\\text{O}$ có thể được mô tả bởi danh sách `[('H', 2), ('O', 1)]`."
   ]
  },
  {
   "attachments": {},
   "cell_type": "markdown",
   "metadata": {},
   "source": [
    "Viết hàm trả về chuỗi biểu diễn LaTeX của công thức hóa học."
   ]
  },
  {
   "cell_type": "code",
   "metadata": {
    "ExecuteTime": {
     "end_time": "2025-06-09T07:01:46.411765Z",
     "start_time": "2025-06-09T07:01:46.397757Z"
    }
   },
   "source": [
    "def chemical_formula(mol):\n",
    "    result = ''\n",
    "    for sub in mol:\n",
    "        if not isinstance(sub[0], str):\n",
    "            result += f'({chemical_formula(sub[0])})_{sub[1]}'\n",
    "        else:\n",
    "            result += '\\\\text{' + str(sub[0]) + '}' + (f'_{sub[1]}' if sub[1] > 1 else '')\n",
    "    return result\n",
    "    # return ''.join(f'({chemical_formula(sub[0])})_{sub[1]}' if not isinstance(sub[0], str) else f'\\\\text{{{sub[0]}}}' + (f'_{sub[1]}' if sub[1] > 1 else '') for sub in mol)\n",
    "    # return ''.join('\\\\text{' + e + '}' + (f'_{n}' if n > 1 else '') for e, n in mol)"
   ],
   "outputs": [],
   "execution_count": 126
  },
  {
   "cell_type": "code",
   "metadata": {
    "ExecuteTime": {
     "end_time": "2025-06-09T07:01:48.011926Z",
     "start_time": "2025-06-09T07:01:48.006930Z"
    }
   },
   "source": [
    "from IPython.display import Latex\n",
    "\n",
    "mol = chemical_formula([('H', 2), ('O', 1)])\n",
    "# will be similar to the following\n",
    "# mol = r'\\text{H}_2\\text{O}'\n",
    "\n",
    "print(mol)\n",
    "Latex('$' + mol + '$')"
   ],
   "outputs": [
    {
     "name": "stdout",
     "output_type": "stream",
     "text": [
      "\\text{H}_2\\text{O}\n"
     ]
    },
    {
     "data": {
      "text/plain": [
       "<IPython.core.display.Latex object>"
      ],
      "text/latex": "$\\text{H}_2\\text{O}$"
     },
     "execution_count": 127,
     "metadata": {},
     "output_type": "execute_result"
    }
   ],
   "execution_count": 127
  },
  {
   "attachments": {},
   "cell_type": "markdown",
   "metadata": {},
   "source": [
    "Mở rộng hàm trên để cho phép công thức có chứa các nhóm nguyên tử. Chẳng hạn, công thức hóa học của nhôm sunfat $\\text{Al}_2(\\text{S}\\text{O}_4)_3$ có thể được mô tả bởi danh sách `[('Al', 2), ([('S', 1), ('O', 4)], 3)]`."
   ]
  },
  {
   "cell_type": "code",
   "metadata": {
    "ExecuteTime": {
     "end_time": "2025-06-09T07:01:50.531682Z",
     "start_time": "2025-06-09T07:01:50.526218Z"
    }
   },
   "source": [
    "mol = chemical_formula([('Al', 2), ([('S', 1), ('O', 4)], 3)])\n",
    "# will be similar to the following\n",
    "# mol = r'\\text{Al}_2(\\text{S}\\text{O}_4)_3'\n",
    "\n",
    "print(mol)\n",
    "Latex('$' + mol + '$')"
   ],
   "outputs": [
    {
     "name": "stdout",
     "output_type": "stream",
     "text": [
      "\\text{Al}_2(\\text{S}\\text{O}_4)_3\n"
     ]
    },
    {
     "data": {
      "text/plain": [
       "<IPython.core.display.Latex object>"
      ],
      "text/latex": "$\\text{Al}_2(\\text{S}\\text{O}_4)_3$"
     },
     "execution_count": 128,
     "metadata": {},
     "output_type": "execute_result"
    }
   ],
   "execution_count": 128
  },
  {
   "attachments": {},
   "cell_type": "markdown",
   "metadata": {},
   "source": [
    "Một **phản ứng hóa học** (chemical reaction) có thể được mô tả bởi 2 danh sách: danh sách các **phân tử tham gia phản ứng** (reactant) và danh sách các **phân tử sản phẩm** (product). Viết hàm cân bằng phản ứng hóa học và trả về chuỗi biểu diễn LaTeX của **phương trình hóa học** (chemical equation) đã cân bằng."
   ]
  },
  {
   "cell_type": "code",
   "metadata": {
    "ExecuteTime": {
     "end_time": "2025-06-09T06:35:34.066679Z",
     "start_time": "2025-06-09T06:35:34.062894Z"
    }
   },
   "source": [
    "def balance_chemical_equation(lhs, rhs):\n",
    "    'lhs represents the reactants and rhs represents the products'\n",
    "    pass # TODO"
   ],
   "outputs": [],
   "execution_count": 77
  },
  {
   "cell_type": "code",
   "metadata": {
    "ExecuteTime": {
     "end_time": "2025-06-09T06:35:34.127203Z",
     "start_time": "2025-06-09T06:35:34.122369Z"
    }
   },
   "source": [
    "H2O = [('H', 2), ('O', 1)]\n",
    "H2 = [('H', 2)]\n",
    "O2 = [('O', 2)]\n",
    "\n",
    "equation = balance_chemical_equation([H2O], [H2, O2])\n",
    "# will be similar to the following\n",
    "equation = r'2\\text{H}_2\\text{O} \\to 2\\text{H}_2 + \\text{O}_2'\n",
    "\n",
    "print(equation)\n",
    "Latex('$$' + equation + '$$')"
   ],
   "outputs": [
    {
     "name": "stdout",
     "output_type": "stream",
     "text": [
      "2\\text{H}_2\\text{O} \\to 2\\text{H}_2 + \\text{O}_2\n"
     ]
    },
    {
     "data": {
      "text/plain": [
       "<IPython.core.display.Latex object>"
      ],
      "text/latex": "$$2\\text{H}_2\\text{O} \\to 2\\text{H}_2 + \\text{O}_2$$"
     },
     "execution_count": 78,
     "metadata": {},
     "output_type": "execute_result"
    }
   ],
   "execution_count": 78
  },
  {
   "cell_type": "code",
   "metadata": {
    "ExecuteTime": {
     "end_time": "2025-06-09T06:35:34.262741Z",
     "start_time": "2025-06-09T06:35:34.256576Z"
    }
   },
   "source": [
    "Al_OH3 = [('Al', 1), ([('O', 1), ('H', 1)], 3)]\n",
    "H2_SO4 = [('H', 2), ([('S', 1), ('O', 4)], 1)]\n",
    "Al2_SO43 = [('Al', 2), ([('S', 1), ('O', 4)], 3)]\n",
    "H2O = [('H', 2), ('O', 1)]\n",
    "\n",
    "equation = balance_chemical_equation([Al_OH3, H2_SO4], [Al2_SO43, H2O])\n",
    "# will be similar to the following\n",
    "equation = r'2\\text{Al}(\\text{O}\\text{H})_3 + 3\\text{H}_2\\text{S}\\text{O}_4 \\to \\text{Al}_2(\\text{S}\\text{O}_4)_3 + 6\\text{H}_2\\text{O}'\n",
    "\n",
    "print(equation)\n",
    "Latex('$$' + equation + '$$')"
   ],
   "outputs": [
    {
     "name": "stdout",
     "output_type": "stream",
     "text": [
      "2\\text{Al}(\\text{O}\\text{H})_3 + 3\\text{H}_2\\text{S}\\text{O}_4 \\to \\text{Al}_2(\\text{S}\\text{O}_4)_3 + 6\\text{H}_2\\text{O}\n"
     ]
    },
    {
     "data": {
      "text/plain": [
       "<IPython.core.display.Latex object>"
      ],
      "text/latex": "$$2\\text{Al}(\\text{O}\\text{H})_3 + 3\\text{H}_2\\text{S}\\text{O}_4 \\to \\text{Al}_2(\\text{S}\\text{O}_4)_3 + 6\\text{H}_2\\text{O}$$"
     },
     "execution_count": 79,
     "metadata": {},
     "output_type": "execute_result"
    }
   ],
   "execution_count": 79
  }
 ],
 "metadata": {
  "kernelspec": {
   "display_name": "python3",
   "language": "python",
   "name": "python3"
  },
  "language_info": {
   "codemirror_mode": {
    "name": "ipython",
    "version": 3
   },
   "file_extension": ".py",
   "mimetype": "text/x-python",
   "name": "python",
   "nbconvert_exporter": "python",
   "pygments_lexer": "ipython3",
   "version": "3.9.22"
  },
  "toc": {
   "base_numbering": 1,
   "nav_menu": {},
   "number_sections": true,
   "sideBar": true,
   "skip_h1_title": false,
   "title_cell": "Table of Contents",
   "title_sidebar": "Contents",
   "toc_cell": false,
   "toc_position": {},
   "toc_section_display": true,
   "toc_window_display": false
  }
 },
 "nbformat": 4,
 "nbformat_minor": 4
}
